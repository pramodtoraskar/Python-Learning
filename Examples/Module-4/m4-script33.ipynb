{
 "cells": [
  {
   "cell_type": "code",
   "execution_count": null,
   "metadata": {},
   "outputs": [],
   "source": [
    "import pandas as pd"
   ]
  },
  {
   "cell_type": "code",
   "execution_count": null,
   "metadata": {},
   "outputs": [],
   "source": [
    "# Calling DataFrame constructor \n",
    "df = pd.DataFrame() \n",
    "print(df)"
   ]
  },
  {
   "cell_type": "code",
   "execution_count": null,
   "metadata": {},
   "outputs": [],
   "source": [
    "# To create data frame, import pandas as pd\n",
    "\n",
    "# list of strings\n",
    "list_obj = [\"Nikita Asrani\",\n",
    "            \"Pravin Galande\",\n",
    "            \"Rayan Mariyan\",\n",
    "            \"Sanjeevani Koli\",\n",
    "            \"Sagar Yadav\",\n",
    "            \"Vikram Kumar\",\n",
    "            \"Inder Punj\",\n",
    "            \"Manoranjan Singh\",\n",
    "            \"Sagar Wagh\"]\n",
    "# Calling DataFrame constructor on list\n",
    "df_obj = pd.DataFrame(list_obj)\n",
    "print(df_obj)"
   ]
  },
  {
   "cell_type": "code",
   "execution_count": null,
   "metadata": {},
   "outputs": [],
   "source": [
    "# Initialize data of lists.\n",
    "data = {'Name':['Pravin', 'Rayan', 'Sagar', 'Inder'], 'Age':[23, 21, 34, 27]}\n",
    "\n",
    "# Create DataFrame\n",
    "df = pd.DataFrame(data)\n",
    "\n",
    "# Print the output.\n",
    "print(df)"
   ]
  },
  {
   "cell_type": "markdown",
   "metadata": {},
   "source": [
    "### Basic operations\n",
    "**Column Selection**"
   ]
  },
  {
   "cell_type": "code",
   "execution_count": null,
   "metadata": {},
   "outputs": [],
   "source": [
    "# Define a dictionary containing employee data\n",
    "data = {'Name':['Pravin', 'Rayan', 'Sagar', 'Inder'],\n",
    "        'Age':[27, 24, 22, 32],\n",
    "        'Address':['Delhi', 'Kanpur', 'Allahabad', 'Pune'],\n",
    "        'Qualification':['Msc', 'MA', 'MCA', 'Phd']}\n",
    "\n",
    "# Convert the dictionary into DataFrame \n",
    "df = pd.DataFrame(data)\n",
    "\n",
    "# select two columns\n",
    "print(df[['Name', 'Qualification']])"
   ]
  },
  {
   "cell_type": "markdown",
   "metadata": {},
   "source": [
    "**Row Selection**"
   ]
  },
  {
   "cell_type": "code",
   "execution_count": null,
   "metadata": {},
   "outputs": [],
   "source": [
    "data = pd.read_csv(\"nba.csv\", index_col =\"Name\")\n",
    "# retrieving row by loc method\n",
    "first = data.loc[\"Avery Bradley\"]\n",
    "second = data.loc[\"R.J. Hunter\"]\n",
    "print(first,\"\\n\\n\\n\",second)"
   ]
  },
  {
   "cell_type": "markdown",
   "metadata": {},
   "source": [
    "<hr/>\n",
    "\n",
    "### Importing and exporting data"
   ]
  },
  {
   "cell_type": "markdown",
   "metadata": {},
   "source": [
    "Writing to the CSV/Excel"
   ]
  },
  {
   "cell_type": "code",
   "execution_count": null,
   "metadata": {},
   "outputs": [],
   "source": [
    "students_df = {'Name':['Pravin', 'Rayan', 'Sagar', 'Inder'],\n",
    "             'Age':[27, 24, 22, 32],\n",
    "             'Address':['Delhi', 'Kanpur', 'Allahabad', 'Pune'],\n",
    "              'Qualification':['Msc', 'MA', 'MCA', 'Phd']}\n",
    "\n",
    "# Create DataFrame\n",
    "df = pd.DataFrame(students_df, columns= ['Name', 'Age', 'Address', 'Qualification'])\n",
    "\n",
    "# Export DataFrame to CSV File\n",
    "export_csv = df.to_csv (r'test_dataframe.csv', index = None, header=True)\n",
    "\n",
    "df.to_excel(r'test_dataframe.xlsx')\n",
    "\n",
    "print(df)"
   ]
  },
  {
   "cell_type": "markdown",
   "metadata": {},
   "source": [
    "Reading to the CSV/Excel"
   ]
  },
  {
   "cell_type": "code",
   "execution_count": null,
   "metadata": {},
   "outputs": [],
   "source": [
    "df = pd.read_csv('test_dataframe.csv')\n",
    "df.head()\n",
    "\n",
    "df = pd.read_excel(r'test_dataframe.xlsx')\n",
    "print(df)"
   ]
  },
  {
   "cell_type": "markdown",
   "metadata": {},
   "source": [
    "<hr />\n",
    "\n",
    "### Indexing and Selecting"
   ]
  },
  {
   "cell_type": "code",
   "execution_count": null,
   "metadata": {},
   "outputs": [],
   "source": [
    "# making data frame from csv file\n",
    "data = pd.read_csv(\"nba.csv\", index_col =\"Name\")\n",
    "\n",
    "# retrieving columns by indexing operator\n",
    "first = data[\"Age\"]\n",
    "\n",
    "print(first)"
   ]
  },
  {
   "cell_type": "markdown",
   "metadata": {},
   "source": [
    "**Indexing a DataFrame using .loc[ ]**"
   ]
  },
  {
   "cell_type": "code",
   "execution_count": null,
   "metadata": {},
   "outputs": [],
   "source": [
    "# making data frame from csv file\n",
    "data = pd.read_csv(\"nba.csv\", index_col =\"Name\")\n",
    "\n",
    "# retrieving row by loc method\n",
    "first = data.loc[\"Avery Bradley\"]\n",
    "second = data.loc[\"R.J. Hunter\"]\n",
    "\n",
    "print(first, \"\\n\\n\\n\", second)"
   ]
  },
  {
   "cell_type": "markdown",
   "metadata": {},
   "source": [
    "**Indexing a DataFrame using .iloc[ ]**"
   ]
  },
  {
   "cell_type": "code",
   "execution_count": null,
   "metadata": {},
   "outputs": [],
   "source": [
    "# making data frame from csv file\n",
    "data = pd.read_csv(\"nba.csv\", index_col =\"Name\")\n",
    "\n",
    "# retrieving rows by iloc method \n",
    "row2 = data.iloc[3] \n",
    "\n",
    "print(row2)"
   ]
  },
  {
   "cell_type": "markdown",
   "metadata": {},
   "source": [
    "**Iterating over rows and columns**"
   ]
  },
  {
   "cell_type": "markdown",
   "metadata": {},
   "source": [
    "**Iterating over rows**"
   ]
  },
  {
   "cell_type": "code",
   "execution_count": null,
   "metadata": {},
   "outputs": [],
   "source": [
    "# Dictionary of lists\n",
    "dict_obj = {'name':['Pravin', 'Rayan', 'Sagar', 'Inder'],\n",
    "            'degree': [\"MBA\", \"BCA\", \"M.Tech\", \"MBA\"],\n",
    "            'score':[90, 40, 80, 98]}\n",
    "\n",
    "# Creating a dataframe from a dictionary \n",
    "df = pd.DataFrame(dict_obj)\n",
    "\n",
    "# iterating over rows using iterrows() function \n",
    "for i, j in df.iterrows():\n",
    "    print(i, j)\n",
    "    print()"
   ]
  },
  {
   "cell_type": "markdown",
   "metadata": {},
   "source": [
    "**Iterating over Columns**"
   ]
  },
  {
   "cell_type": "code",
   "execution_count": null,
   "metadata": {},
   "outputs": [],
   "source": [
    "# Dictionary of lists\n",
    "dict = {'name':['Pravin', 'Rayan', 'Sagar', 'Inder'],\n",
    "        'degree': [\"MBA\", \"BCA\", \"M.Tech\", \"MBA\"],\n",
    "        'score':[90, 40, 80, 98]}\n",
    "# creating a dataframe from a dictionary \n",
    "df = pd.DataFrame(dict_obj)\n",
    "print(df)\n",
    "\n",
    "# creating a list of dataframe columns\n",
    "columns = list(df)\n",
    "print(\"\\n\")\n",
    "for i in columns:\n",
    "    # printing the third element of the column\n",
    "    print (df[i][2])"
   ]
  },
  {
   "cell_type": "markdown",
   "metadata": {},
   "source": [
    "**Lowercasing and Uppercasing a Data**"
   ]
  },
  {
   "cell_type": "code",
   "execution_count": null,
   "metadata": {},
   "outputs": [],
   "source": [
    "# Define a dictionary containing employee data \n",
    "data = {'Name':['Pravin', 'Rayan', 'Sagar', 'Inder'], \n",
    "        'Age':[27, 24, 22, 32], \n",
    "        'Address':['Delhi', 'Kanpur', 'Allahabad', 'Pune'], \n",
    "        'Qualification':['Msc', 'MA', 'MCA', 'Phd']} \n",
    "\n",
    "# Convert the dictionary into DataFrame  \n",
    "df = pd.DataFrame(data) \n",
    "\n",
    "# Converting and overwriting values in column \n",
    "df[\"Name\"]= df[\"Name\"].str.lower()\n",
    "\n",
    "print(df)"
   ]
  },
  {
   "cell_type": "markdown",
   "metadata": {},
   "source": [
    "**Splitting and Replacing a Data**"
   ]
  },
  {
   "cell_type": "code",
   "execution_count": null,
   "metadata": {},
   "outputs": [],
   "source": [
    "# Define a dictionary containing employee data \n",
    "data = {'Name':['Pravin', 'Rayan', 'Sagar', 'Inder'], \n",
    "        'Age':[27, 24, 22, 32], \n",
    "        'Address':['Nagpur', 'Kanpur', 'Allahabad', 'Pune'], \n",
    "        'Qualification':['Msc', 'MA', 'MCA', 'Phd']} \n",
    "\n",
    "# Convert the dictionary into DataFrame  \n",
    "df = pd.DataFrame(data) \n",
    "\n",
    "# dropping null value columns to avoid errors \n",
    "df.dropna(inplace = True) \n",
    "\n",
    "# new data frame with split value columns \n",
    "df[\"Address\"]= df[\"Address\"].str.split(\"a\", n = 1, expand = True) \n",
    "\n",
    "# df display \n",
    "print(df)"
   ]
  },
  {
   "cell_type": "markdown",
   "metadata": {},
   "source": [
    "**Replace a data**"
   ]
  },
  {
   "cell_type": "code",
   "execution_count": null,
   "metadata": {},
   "outputs": [],
   "source": [
    "# reading csv file from url\n",
    "data = pd.read_csv(\"nba.csv\")\n",
    "\n",
    "# overwriting column with replaced value of age\n",
    "data[\"Age\"]= data[\"Age\"].replace(25.0, \"Twenty five\")\n",
    "\n",
    "# creating a filter for age column \n",
    "# where age = \"Twenty five\"\n",
    "filtered_date = data[\"Age\"]==\"Twenty five\"\n",
    "\n",
    "# printing only filtered columns\n",
    "data.where(filtered_date).dropna()"
   ]
  },
  {
   "cell_type": "markdown",
   "metadata": {},
   "source": [
    "<hr/>\n",
    "\n",
    "### Pandas Concatenating, Merging, and Joining"
   ]
  },
  {
   "cell_type": "markdown",
   "metadata": {},
   "source": [
    "**Concatenating DataFrame**"
   ]
  },
  {
   "cell_type": "code",
   "execution_count": null,
   "metadata": {},
   "outputs": [],
   "source": [
    "# Define a dictionary containing employee data  \n",
    "data_obj_1 = {'Name':['Pravin', 'Rayan', 'Sagar', 'Inder'],\n",
    "              'Age':[27, 24, 22, 32], \n",
    "              'Address':['Nagpur', 'Kanpur', 'Allahabad', 'Pune'], \n",
    "              'Qualification':['Msc', 'MA', 'MCA', 'Phd']} \n",
    "\n",
    "# Define a dictionary containing employee data \n",
    "data_obj_2 = {'Name':['Gaurav', 'Dushyen', 'Sanjeevani', 'Manoranjan'], \n",
    "              'Age':[17, 14, 12, 52], \n",
    "              'Address':['Delhi', 'Kota', 'Sangareddy', 'Kannuaj'], \n",
    "              'Qualification':['Btech', 'B.A', 'Bcom', 'B.hons']}\n",
    "\n",
    " # Convert the dictionary into DataFrame  \n",
    "df_obj_1 = pd.DataFrame(data_obj_1,index=[0, 1, 2, 3])\n",
    "\n",
    "# Convert the dictionary into DataFrame  \n",
    "df_obj_2 = pd.DataFrame(data_obj_2, index=[4, 5, 6, 7])\n",
    "\n",
    "print(df_obj_1, \"\\n\\n\", df_obj_2)\n",
    "\n",
    "# Using a .concat() method\n",
    "frames = [df_obj_1, df_obj_2]\n",
    "res_df = pd.concat(frames)\n",
    "print(\"\\n\\n\")\n",
    "print(res_df)           "
   ]
  },
  {
   "cell_type": "markdown",
   "metadata": {},
   "source": [
    "**Now we set axes join = inner for intersection of dataframe**"
   ]
  },
  {
   "cell_type": "code",
   "execution_count": null,
   "metadata": {},
   "outputs": [],
   "source": [
    "# Define a dictionary containing employee data \n",
    "emp_obj_1 = {'Name':['Pravin', 'Rayan', 'Sagar', 'Inder'], \n",
    "        'Age':[27, 24, 22, 32], \n",
    "        'Address':['Nagpur', 'Kanpur', 'Allahabad', 'Kannuaj'], \n",
    "        'Qualification':['Msc', 'MA', 'MCA', 'Phd'],\n",
    "        'Mobile No': [97, 91, 58, 76]} \n",
    "\n",
    "# Define a dictionary containing employee data \n",
    "emp_obj_2 = {'Name':['Gaurav', 'Dushyen', 'Sanjeevani', 'Manoranjan'], \n",
    "        'Age':[22, 32, 12, 52], \n",
    "        'Address':['Allahabad', 'Kannuaj', 'Allahabad', 'Kannuaj'], \n",
    "        'Qualification':['MCA', 'Phd', 'Bcom', 'B.hons'],\n",
    "        'Salary':[1000, 2000, 3000, 4000]}  \n",
    " \n",
    "# Convert the dictionary into DataFrame  \n",
    "df_obj_1 = pd.DataFrame(emp_obj_1,index=[0, 1, 2, 3])\n",
    " \n",
    "# Convert the dictionary into DataFrame  \n",
    "df_obj_2 = pd.DataFrame(emp_obj_2, index=[2, 3, 6, 7]) \n",
    "\n",
    "print(df_obj_1, \"\\n\\n\", df_obj_2)\n",
    "\n",
    "# Applying concat with axes join = 'inner'\n",
    "res_df_2 = pd.concat([df_obj_1, df_obj_2], axis=1, join='inner')\n",
    "res_df_2"
   ]
  },
  {
   "cell_type": "markdown",
   "metadata": {},
   "source": [
    "**Now we set axes join = outer for union of dataframe**"
   ]
  },
  {
   "cell_type": "code",
   "execution_count": null,
   "metadata": {},
   "outputs": [],
   "source": [
    "# Using a .concat for union of dataframe\n",
    "res_df_2 = pd.concat([df_obj_1, df_obj_2], axis=1, join='outer')\n",
    "#res_df_2 = pd.concat([df_obj_1, df_obj_2], axis=1, sort=False)\n",
    "res_df_2"
   ]
  },
  {
   "cell_type": "markdown",
   "metadata": {},
   "source": [
    "**Concatenating DataFrame using .append()**"
   ]
  },
  {
   "cell_type": "code",
   "execution_count": null,
   "metadata": {},
   "outputs": [],
   "source": [
    "# Define a dictionary containing employee data \n",
    "emp_obj_1 = {'Name':['Pravin', 'Rayan', 'Sagar', 'Inder'], \n",
    "        'Age':[27, 24, 22, 32], \n",
    "        'Address':['Nagpur', 'Kanpur', 'Allahabad', 'Kannuaj'], \n",
    "        'Qualification':['Msc', 'MA', 'MCA', 'Phd'],\n",
    "        'Mobile No': [97, 91, 58, 76]} \n",
    "\n",
    "# Define a dictionary containing employee data \n",
    "emp_obj_2 = {'Name':['Gaurav', 'Dushyen', 'Sanjeevani', 'Manoranjan'], \n",
    "        'Age':[22, 32, 12, 52], \n",
    "        'Address':['Allahabad', 'Kannuaj', 'Allahabad', 'Kannuaj'], \n",
    "        'Qualification':['MCA', 'Phd', 'Bcom', 'B.hons'],\n",
    "        'Salary':[1000, 2000, 3000, 4000]}  \n",
    "\n",
    "# Convert the dictionary into DataFrame\n",
    "df_obj_1 = pd.DataFrame(emp_obj_1,index=[0, 1, 2, 3])\n",
    "\n",
    "# Convert the dictionary into DataFrame  \n",
    "df_obj_2 = pd.DataFrame(emp_obj_2, index=[4, 5, 6, 7])\n",
    "\n",
    "print(df_obj_1, \"\\n\\n\", df_obj_2) \n",
    "\n",
    "# Using append function\n",
    "\n",
    "res_df = df_obj_1.append(df_obj_2)\n",
    "print(\"\\n\\n\")\n",
    "res_df"
   ]
  },
  {
   "cell_type": "markdown",
   "metadata": {},
   "source": [
    "**Concatenating DataFrame with group keys**"
   ]
  },
  {
   "cell_type": "code",
   "execution_count": null,
   "metadata": {},
   "outputs": [],
   "source": [
    "df_obj_1 = pd.DataFrame(emp_obj_1,index=[0, 1, 2, 3])\n",
    "\n",
    "# Convert the dictionary into DataFrame  \n",
    "df_obj_2 = pd.DataFrame(emp_obj_2, index=[4, 5, 6, 7])\n",
    "\n",
    "print(df_obj_1, \"\\n\\n\", df_obj_2)  \n",
    "\n",
    "# using keys \n",
    "frames = [df_obj_1, df_obj_2]\n",
    "\n",
    "res_df = pd.concat(frames, keys=['x', 'y'])\n",
    "print(\"\\n\")\n",
    "res_df"
   ]
  },
  {
   "cell_type": "markdown",
   "metadata": {},
   "source": [
    "<hr/>\n",
    "\n",
    "**Merging a dataframe with one unique key combination**"
   ]
  },
  {
   "cell_type": "code",
   "execution_count": null,
   "metadata": {},
   "outputs": [],
   "source": [
    "# Define a dictionary containing employee data \n",
    "emp_obj_1 = {'key': ['Pravin', 'Rayan', 'Sagar', 'Inder'],\n",
    "         'Name':['Jai', 'Princi', 'Gaurav', 'Anuj'], \n",
    "         'Age':[27, 24, 22, 32],} \n",
    "   \n",
    "# Define a dictionary containing employee data \n",
    "emp_obj_2 = {'key': ['K0', 'K1', 'K2', 'K3'],\n",
    "         'Address':['Allahabad', 'Kannuaj', 'Allahabad', 'Kannuaj'], \n",
    "         'Qualification':['Btech', 'B.A', 'Bcom', 'B.hons']} \n",
    " \n",
    "# Convert the dictionary into DataFrame  \n",
    "df_obj_1 = pd.DataFrame(emp_obj_1)\n",
    " \n",
    "# Convert the dictionary into DataFrame  \n",
    "df_obj_2 = pd.DataFrame(emp_obj_1) \n",
    "  \n",
    " \n",
    "print(df_obj_1, \"\\n\\n\", df_obj_2) \n",
    "\n",
    "# using .merge() function\n",
    "res_df = pd.merge(df_obj_1, df_obj_2, on='key')\n",
    " \n",
    "res_df"
   ]
  },
  {
   "cell_type": "markdown",
   "metadata": {},
   "source": [
    "**Merging dataframe using multiple join keys**"
   ]
  },
  {
   "cell_type": "code",
   "execution_count": null,
   "metadata": {},
   "outputs": [],
   "source": [
    "# Define a dictionary containing employee data \n",
    "emp_obj_1 = {'key': ['K0', 'K1', 'K2', 'K3'],\n",
    "         'key1': ['K0', 'K1', 'K0', 'K1'],\n",
    "         'Name':['Pravin', 'Rayan', 'Sagar', 'Inder'], \n",
    "        'Age':[27, 24, 22, 32],} \n",
    "\n",
    "# Define a dictionary containing employee data \n",
    "emp_obj_2 = {'key': ['K0', 'K1', 'K2', 'K3'],\n",
    "         'key1': ['K0', 'K0', 'K0', 'K0'],\n",
    "         'Address':['Allahabad', 'Kannuaj', 'Allahabad', 'Kannuaj'], \n",
    "        'Qualification':['Btech', 'B.A', 'Bcom', 'B.hons']} \n",
    "\n",
    "# Convert the dictionary into DataFrame  \n",
    "df_obj_1 = pd.DataFrame(emp_obj_1)\n",
    "\n",
    "# Convert the dictionary into DataFrame  \n",
    "df_obj_2 = pd.DataFrame(emp_obj_2) \n",
    "\n",
    "\n",
    "print(df_obj_1, \"\\n\\n\", df_obj_2) \n",
    "\n",
    "# merging dataframe using multiple keys\n",
    "res_df = pd.merge(df_obj_1, df_obj_1, on=['key', 'key1'])\n",
    "\n",
    "res_df"
   ]
  },
  {
   "cell_type": "markdown",
   "metadata": {},
   "source": [
    "**Merging dataframe using how in an argument**"
   ]
  },
  {
   "cell_type": "code",
   "execution_count": null,
   "metadata": {},
   "outputs": [],
   "source": [
    "# Now we set how = 'left' in order to use keys from left frame only.\n",
    "\n",
    "# using keys from left frame\n",
    "res_df = pd.merge(df_obj_1, df_obj_1,  how='left', on=['key', 'key1'])\n",
    "print(\"\\n\")\n",
    "print(res_df)\n",
    "\n",
    "# Now we set how = 'right' in order to use keys from right frame only.\n",
    "\n",
    "# using keys from left frame\n",
    "res_df = pd.merge(df_obj_1, df_obj_1,  how='right', on=['key', 'key1'])\n",
    "print(\"\\n\")\n",
    "print(res_df)\n",
    "\n",
    "# Now we set how = 'outer' in order to get union of keys from dataframes.\n",
    "\n",
    "# using keys from left frame\n",
    "res_df = pd.merge(df_obj_1, df_obj_1,  how='outer', on=['key', 'key1'])\n",
    "print(\"\\n\")\n",
    "print(res_df)\n",
    "\n",
    "# Now we set how = 'inner' in order to get intersection of keys from dataframes.\n",
    "\n",
    "# using keys from left frame\n",
    "res_df = pd.merge(df_obj_1, df_obj_1,  how='inner', on=['key', 'key1'])\n",
    "print(\"\\n\")\n",
    "print(res_df)\n"
   ]
  },
  {
   "cell_type": "markdown",
   "metadata": {},
   "source": [
    "<hr />\n",
    "\n",
    "**Joining DataFrame**"
   ]
  },
  {
   "cell_type": "code",
   "execution_count": null,
   "metadata": {},
   "outputs": [],
   "source": [
    "# Define a dictionary containing employee data \n",
    "emp_obj_1 = {'Name':['Pravin', 'Rayan', 'Sagar', 'Inder'], \n",
    "             'Age':[27, 24, 22, 32]} \n",
    "\n",
    "# Define a dictionary containing employee data \n",
    "emp_obj_2 = {'Address':['Allahabad', 'Kannuaj', 'Allahabad', 'Kannuaj'], \n",
    "             'Qualification':['MCA', 'Phd', 'Bcom', 'B.hons']} \n",
    "\n",
    "# Convert the dictionary into DataFrame  \n",
    "df_obj_1 = pd.DataFrame(emp_obj_1,index=['K0', 'K1', 'K2', 'K3'])\n",
    "\n",
    "# Convert the dictionary into DataFrame  \n",
    "df_obj_2 = pd.DataFrame(emp_obj_2, index=['K0', 'K2', 'K3', 'K4'])\n",
    "\n",
    "\n",
    "print(df_obj_1, \"\\n\\n\", df_obj_2)  \n",
    "\n",
    "# joining dataframe\n",
    "res_df_1 = df_obj_1.join(df_obj_2)\n",
    "\n",
    "res_df_1"
   ]
  },
  {
   "cell_type": "code",
   "execution_count": null,
   "metadata": {},
   "outputs": [],
   "source": [
    "# Now we use how = 'outer' in order to get union\n",
    "\n",
    "# Getting union\n",
    "res_df_1 = df_obj_1.join(df_obj_2, how='outer')\n",
    "res_df_1"
   ]
  },
  {
   "cell_type": "code",
   "execution_count": null,
   "metadata": {},
   "outputs": [],
   "source": [
    "# Now we use how = 'inner' in order to get union\n",
    "\n",
    "# Getting union\n",
    "res_df_1 = df_obj_1.join(df_obj_2, how='inner')\n",
    "res_df_1"
   ]
  },
  {
   "cell_type": "code",
   "execution_count": null,
   "metadata": {},
   "outputs": [],
   "source": [
    "# Joining dataframe using **on** in an argument\n",
    "\n",
    "# Define a dictionary containing employee data \n",
    "emp_obj_1 = {'Name':['Pravin', 'Rayan', 'Sagar', 'Inder'], \n",
    "        'Age':[27, 24, 22, 32],\n",
    "        'Key':['K0', 'K1', 'K2', 'K3']} \n",
    "    \n",
    "# Define a dictionary containing employee data \n",
    "emp_obj_2 = {'Address':['Allahabad', 'Kannuaj', 'Allahabad', 'Kannuaj'], \n",
    "        'Qualification':['MCA', 'Phd', 'Bcom', 'B.hons']} \n",
    "  \n",
    "# Convert the dictionary into DataFrame  \n",
    "df_obj_1 = pd.DataFrame(emp_obj_1)\n",
    "  \n",
    "# Convert the dictionary into DataFrame  \n",
    "df_obj_2 = pd.DataFrame(emp_obj_2, index=['K0', 'K2', 'K3', 'K4'])\n",
    " \n",
    "print(df_obj_1, \"\\n\\n\", df_obj_2)\n",
    "\n",
    "# using on argument in join\n",
    "res_df = df_obj_1.join(df_obj_2, on='Key')\n",
    " \n",
    "res_df"
   ]
  }
 ],
 "metadata": {
  "kernelspec": {
   "display_name": "Python 3",
   "language": "python",
   "name": "python3"
  },
  "language_info": {
   "codemirror_mode": {
    "name": "ipython",
    "version": 3
   },
   "file_extension": ".py",
   "mimetype": "text/x-python",
   "name": "python",
   "nbconvert_exporter": "python",
   "pygments_lexer": "ipython3",
   "version": "3.6.8"
  }
 },
 "nbformat": 4,
 "nbformat_minor": 4
}
