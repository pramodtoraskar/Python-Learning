{
 "cells": [
  {
   "cell_type": "code",
   "execution_count": 1,
   "metadata": {},
   "outputs": [],
   "source": [
    "import pandas as pd"
   ]
  },
  {
   "cell_type": "code",
   "execution_count": 2,
   "metadata": {},
   "outputs": [
    {
     "name": "stdout",
     "output_type": "stream",
     "text": [
      "Empty DataFrame\n",
      "Columns: []\n",
      "Index: []\n"
     ]
    }
   ],
   "source": [
    "# Calling DataFrame constructor \n",
    "df = pd.DataFrame() \n",
    "print(df)"
   ]
  },
  {
   "cell_type": "code",
   "execution_count": 3,
   "metadata": {},
   "outputs": [
    {
     "name": "stdout",
     "output_type": "stream",
     "text": [
      "                  0\n",
      "0     Nikita Asrani\n",
      "1    Pravin Galande\n",
      "2     Rayan Mariyan\n",
      "3   Sanjeevani Koli\n",
      "4       Sagar Yadav\n",
      "5      Vikram Kumar\n",
      "6        Inder Punj\n",
      "7  Manoranjan Singh\n",
      "8        Sagar Wagh\n"
     ]
    }
   ],
   "source": [
    "# To create data frame, import pandas as pd\n",
    "\n",
    "# list of strings\n",
    "list_obj = [\"Nikita Asrani\",\n",
    "            \"Pravin Galande\",\n",
    "            \"Rayan Mariyan\",\n",
    "            \"Sanjeevani Koli\",\n",
    "            \"Sagar Yadav\",\n",
    "            \"Vikram Kumar\",\n",
    "            \"Inder Punj\",\n",
    "            \"Manoranjan Singh\",\n",
    "            \"Sagar Wagh\"]\n",
    "# Calling DataFrame constructor on list\n",
    "df_obj = pd.DataFrame(list_obj)\n",
    "print(df_obj)"
   ]
  },
  {
   "cell_type": "code",
   "execution_count": 4,
   "metadata": {},
   "outputs": [
    {
     "name": "stdout",
     "output_type": "stream",
     "text": [
      "     Name  Age\n",
      "0  Pravin   23\n",
      "1   Rayan   21\n",
      "2   Sagar   34\n",
      "3   Inder   27\n"
     ]
    }
   ],
   "source": [
    "# Initialize data of lists.\n",
    "data = {'Name':['Pravin', 'Rayan', 'Sagar', 'Inder'], 'Age':[23, 21, 34, 27]}\n",
    "\n",
    "# Create DataFrame\n",
    "df = pd.DataFrame(data)\n",
    "\n",
    "# Print the output.\n",
    "print(df)"
   ]
  },
  {
   "cell_type": "markdown",
   "metadata": {},
   "source": [
    "### Basic operations\n",
    "**Column Selection**"
   ]
  },
  {
   "cell_type": "code",
   "execution_count": 6,
   "metadata": {},
   "outputs": [
    {
     "name": "stdout",
     "output_type": "stream",
     "text": [
      "     Name  Age\n",
      "0  Pravin   27\n",
      "1   Rayan   24\n",
      "2   Sagar   22\n",
      "3   Inder   32\n"
     ]
    }
   ],
   "source": [
    "# Define a dictionary containing employee data\n",
    "data = {'Name':['Pravin', 'Rayan', 'Sagar', 'Inder'],\n",
    "        'Age':[27, 24, 22, 32],\n",
    "        'Address':['Delhi', 'Kanpur', 'Allahabad', 'Pune'],\n",
    "        'Qualification':['Msc', 'MA', 'MCA', 'Phd']}\n",
    "\n",
    "# Convert the dictionary into DataFrame \n",
    "df = pd.DataFrame(data)\n",
    "\n",
    "# select two columns\n",
    "print(df[['Name', 'Age']])"
   ]
  },
  {
   "cell_type": "markdown",
   "metadata": {},
   "source": [
    "**Row Selection**"
   ]
  },
  {
   "cell_type": "code",
   "execution_count": 8,
   "metadata": {
    "scrolled": true
   },
   "outputs": [
    {
     "name": "stdout",
     "output_type": "stream",
     "text": [
      "                         Team  Number Position   Age Height  Weight  \\\n",
      "Name                                                                  \n",
      "Avery Bradley  Boston Celtics     0.0       PG  25.0    6-2   180.0   \n",
      "Jae Crowder    Boston Celtics    99.0       SF  25.0    6-6   235.0   \n",
      "John Holland   Boston Celtics    30.0       SG  27.0    6-5   205.0   \n",
      "R.J. Hunter    Boston Celtics    28.0       SG  22.0    6-5   185.0   \n",
      "Jonas Jerebko  Boston Celtics     8.0       PF  29.0   6-10   231.0   \n",
      "...                       ...     ...      ...   ...    ...     ...   \n",
      "Shelvin Mack        Utah Jazz     8.0       PG  26.0    6-3   203.0   \n",
      "Raul Neto           Utah Jazz    25.0       PG  24.0    6-1   179.0   \n",
      "Tibor Pleiss        Utah Jazz    21.0        C  26.0    7-3   256.0   \n",
      "Jeff Withey         Utah Jazz    24.0        C  26.0    7-0   231.0   \n",
      "NaN                       NaN     NaN      NaN   NaN    NaN     NaN   \n",
      "\n",
      "                         College     Salary  \n",
      "Name                                         \n",
      "Avery Bradley              Texas  7730337.0  \n",
      "Jae Crowder            Marquette  6796117.0  \n",
      "John Holland   Boston University        NaN  \n",
      "R.J. Hunter        Georgia State  1148640.0  \n",
      "Jonas Jerebko                NaN  5000000.0  \n",
      "...                          ...        ...  \n",
      "Shelvin Mack              Butler  2433333.0  \n",
      "Raul Neto                    NaN   900000.0  \n",
      "Tibor Pleiss                 NaN  2900000.0  \n",
      "Jeff Withey               Kansas   947276.0  \n",
      "NaN                          NaN        NaN  \n",
      "\n",
      "[458 rows x 8 columns]\n",
      "-----------------------------------My Output-----------------------------\n",
      "Team        Boston Celtics\n",
      "Number                   0\n",
      "Position                PG\n",
      "Age                     25\n",
      "Height                 6-2\n",
      "Weight                 180\n",
      "College              Texas\n",
      "Salary         7.73034e+06\n",
      "Name: Avery Bradley, dtype: object \n",
      "\n",
      "\n",
      " Team        Boston Celtics\n",
      "Number                  28\n",
      "Position                SG\n",
      "Age                     22\n",
      "Height                 6-5\n",
      "Weight                 185\n",
      "College      Georgia State\n",
      "Salary         1.14864e+06\n",
      "Name: R.J. Hunter, dtype: object\n"
     ]
    }
   ],
   "source": [
    "data = pd.read_csv(\"nba.csv\", index_col =\"Name\")\n",
    "\n",
    "print(data)\n",
    "\n",
    "# retrieving row by loc method\n",
    "first = data.loc[\"Avery Bradley\"]\n",
    "second = data.loc[\"R.J. Hunter\"]\n",
    "print(\"-----------------------------------My Output-----------------------------\")\n",
    "print(first,\"\\n\\n\\n\",second)"
   ]
  },
  {
   "cell_type": "markdown",
   "metadata": {},
   "source": [
    "<hr/>\n",
    "\n",
    "### Importing and exporting data"
   ]
  },
  {
   "cell_type": "markdown",
   "metadata": {},
   "source": [
    "Writing to the CSV/Excel"
   ]
  },
  {
   "cell_type": "code",
   "execution_count": 9,
   "metadata": {},
   "outputs": [
    {
     "name": "stdout",
     "output_type": "stream",
     "text": [
      "     Name  Age    Address Qualification\n",
      "0  Pravin   27      Delhi           Msc\n",
      "1   Rayan   24     Kanpur            MA\n",
      "2   Sagar   22  Allahabad           MCA\n",
      "3   Inder   32       Pune           Phd\n"
     ]
    }
   ],
   "source": [
    "students_df = {'Name':['Pravin', 'Rayan', 'Sagar', 'Inder'],\n",
    "             'Age':[27, 24, 22, 32],\n",
    "             'Address':['Delhi', 'Kanpur', 'Allahabad', 'Pune'],\n",
    "              'Qualification':['Msc', 'MA', 'MCA', 'Phd']}\n",
    "\n",
    "# Create DataFrame\n",
    "df = pd.DataFrame(students_df, columns= ['Name', 'Age', 'Address', 'Qualification'])\n",
    "\n",
    "# Export DataFrame to CSV File\n",
    "export_csv = df.to_csv(r'test_dataframe_15_apr_2020.csv', index = None, header=True)\n",
    "\n",
    "df.to_excel(r'test_dataframe_15_apr_2020.xlsx')\n",
    "\n",
    "print(df)"
   ]
  },
  {
   "cell_type": "markdown",
   "metadata": {},
   "source": [
    "Reading to the CSV/Excel"
   ]
  },
  {
   "cell_type": "code",
   "execution_count": 11,
   "metadata": {},
   "outputs": [
    {
     "name": "stdout",
     "output_type": "stream",
     "text": [
      "     Name  Age    Address Qualification\n",
      "0  Pravin   27      Delhi           Msc\n",
      "1   Rayan   24     Kanpur            MA\n",
      "2   Sagar   22  Allahabad           MCA\n",
      "3   Inder   32       Pune           Phd\n",
      "\n",
      "\n",
      "\n",
      "\n",
      "   Unnamed: 0    Name  Age    Address Qualification\n",
      "0           0  Pravin   27      Delhi           Msc\n",
      "1           1   Rayan   24     Kanpur            MA\n",
      "2           2   Sagar   22  Allahabad           MCA\n",
      "3           3   Inder   32       Pune           Phd\n"
     ]
    }
   ],
   "source": [
    "df = pd.read_csv('test_dataframe_15_apr_2020.csv')\n",
    "print(df.head())\n",
    "print(\"\\n\\n\\n\")\n",
    "df = pd.read_excel(r'test_dataframe_15_apr_2020.xlsx')\n",
    "print(df)"
   ]
  },
  {
   "cell_type": "markdown",
   "metadata": {},
   "source": [
    "<hr />\n",
    "\n",
    "### Indexing and Selecting"
   ]
  },
  {
   "cell_type": "code",
   "execution_count": 12,
   "metadata": {},
   "outputs": [
    {
     "name": "stdout",
     "output_type": "stream",
     "text": [
      "                         Team  Number Position   Age Height  Weight  \\\n",
      "Name                                                                  \n",
      "Avery Bradley  Boston Celtics     0.0       PG  25.0    6-2   180.0   \n",
      "Jae Crowder    Boston Celtics    99.0       SF  25.0    6-6   235.0   \n",
      "John Holland   Boston Celtics    30.0       SG  27.0    6-5   205.0   \n",
      "R.J. Hunter    Boston Celtics    28.0       SG  22.0    6-5   185.0   \n",
      "Jonas Jerebko  Boston Celtics     8.0       PF  29.0   6-10   231.0   \n",
      "...                       ...     ...      ...   ...    ...     ...   \n",
      "Shelvin Mack        Utah Jazz     8.0       PG  26.0    6-3   203.0   \n",
      "Raul Neto           Utah Jazz    25.0       PG  24.0    6-1   179.0   \n",
      "Tibor Pleiss        Utah Jazz    21.0        C  26.0    7-3   256.0   \n",
      "Jeff Withey         Utah Jazz    24.0        C  26.0    7-0   231.0   \n",
      "NaN                       NaN     NaN      NaN   NaN    NaN     NaN   \n",
      "\n",
      "                         College     Salary  \n",
      "Name                                         \n",
      "Avery Bradley              Texas  7730337.0  \n",
      "Jae Crowder            Marquette  6796117.0  \n",
      "John Holland   Boston University        NaN  \n",
      "R.J. Hunter        Georgia State  1148640.0  \n",
      "Jonas Jerebko                NaN  5000000.0  \n",
      "...                          ...        ...  \n",
      "Shelvin Mack              Butler  2433333.0  \n",
      "Raul Neto                    NaN   900000.0  \n",
      "Tibor Pleiss                 NaN  2900000.0  \n",
      "Jeff Withey               Kansas   947276.0  \n",
      "NaN                          NaN        NaN  \n",
      "\n",
      "[458 rows x 8 columns]\n"
     ]
    }
   ],
   "source": [
    "# making data frame from csv file\n",
    "data = pd.read_csv(\"nba.csv\", index_col =\"Name\")\n",
    "\n",
    "print(data)"
   ]
  },
  {
   "cell_type": "code",
   "execution_count": 17,
   "metadata": {},
   "outputs": [
    {
     "name": "stdout",
     "output_type": "stream",
     "text": [
      "Name\n",
      "Avery Bradley    25.0\n",
      "Jae Crowder      25.0\n",
      "John Holland     27.0\n",
      "R.J. Hunter      22.0\n",
      "Jonas Jerebko    29.0\n",
      "                 ... \n",
      "Shelvin Mack     26.0\n",
      "Raul Neto        24.0\n",
      "Tibor Pleiss     26.0\n",
      "Jeff Withey      26.0\n",
      "NaN               NaN\n",
      "Name: Age, Length: 458, dtype: float64\n"
     ]
    }
   ],
   "source": [
    "# retrieving columns by indexing operator\n",
    "first = data[\"Age\"]\n",
    "\n",
    "print(first)"
   ]
  },
  {
   "cell_type": "markdown",
   "metadata": {},
   "source": [
    "**Indexing a DataFrame using .loc[ ]**"
   ]
  },
  {
   "cell_type": "code",
   "execution_count": 18,
   "metadata": {},
   "outputs": [
    {
     "name": "stdout",
     "output_type": "stream",
     "text": [
      "Team        Boston Celtics\n",
      "Number                   0\n",
      "Position                PG\n",
      "Age                     25\n",
      "Height                 6-2\n",
      "Weight                 180\n",
      "College              Texas\n",
      "Salary         7.73034e+06\n",
      "Name: Avery Bradley, dtype: object \n",
      "\n",
      "\n",
      " Team        Boston Celtics\n",
      "Number                  28\n",
      "Position                SG\n",
      "Age                     22\n",
      "Height                 6-5\n",
      "Weight                 185\n",
      "College      Georgia State\n",
      "Salary         1.14864e+06\n",
      "Name: R.J. Hunter, dtype: object\n"
     ]
    }
   ],
   "source": [
    "# making data frame from csv file\n",
    "data = pd.read_csv(\"nba.csv\", index_col =\"Name\")\n",
    "\n",
    "# retrieving row by loc method\n",
    "first = data.loc[\"Avery Bradley\"]\n",
    "second = data.loc[\"R.J. Hunter\"]\n",
    "\n",
    "print(first, \"\\n\\n\\n\", second)"
   ]
  },
  {
   "cell_type": "markdown",
   "metadata": {},
   "source": [
    "**Indexing a DataFrame using .iloc[ ]**"
   ]
  },
  {
   "cell_type": "code",
   "execution_count": 22,
   "metadata": {},
   "outputs": [
    {
     "name": "stdout",
     "output_type": "stream",
     "text": [
      "Team        Minnesota Timberwolves\n",
      "Number                          21\n",
      "Position                        PF\n",
      "Age                             40\n",
      "Height                        6-11\n",
      "Weight                         240\n",
      "College                        NaN\n",
      "Salary                     8.5e+06\n",
      "Name: Kevin Garnett, dtype: object\n"
     ]
    }
   ],
   "source": [
    "# making data frame from csv file\n",
    "data = pd.read_csv(\"nba.csv\", index_col =\"Name\")\n",
    "\n",
    "#print(data)\n",
    "\n",
    "# retrieving rows by iloc method \n",
    "row2 = data.iloc[400] \n",
    "\n",
    "print(row2)"
   ]
  },
  {
   "cell_type": "markdown",
   "metadata": {},
   "source": [
    "**Iterating over rows and columns**"
   ]
  },
  {
   "cell_type": "markdown",
   "metadata": {},
   "source": [
    "**Iterating over rows**"
   ]
  },
  {
   "cell_type": "code",
   "execution_count": 25,
   "metadata": {},
   "outputs": [
    {
     "name": "stdout",
     "output_type": "stream",
     "text": [
      "0 name      Pravin\n",
      "degree       MBA\n",
      "score         90\n",
      "Name: 0, dtype: object\n",
      "\n",
      "1 name      Rayan\n",
      "degree      BCA\n",
      "score        40\n",
      "Name: 1, dtype: object\n",
      "\n",
      "2 name       Sagar\n",
      "degree    M.Tech\n",
      "score         80\n",
      "Name: 2, dtype: object\n",
      "\n",
      "3 name      Inder\n",
      "degree      MBA\n",
      "score        98\n",
      "Name: 3, dtype: object\n",
      "\n"
     ]
    }
   ],
   "source": [
    "# Dictionary of lists\n",
    "dict_obj = {'name':['Pravin', 'Rayan', 'Sagar', 'Inder'],\n",
    "            'degree': [\"MBA\", \"BCA\", \"M.Tech\", \"MBA\"],\n",
    "            'score':[90, 40, 80, 98]}\n",
    "\n",
    "# Creating a dataframe from a dictionary \n",
    "df = pd.DataFrame(dict_obj)\n",
    "\n",
    "# iterating over rows using iterrows() function \n",
    "for i, j in df.iterrows():\n",
    "    print(i, j)\n",
    "    print()"
   ]
  },
  {
   "cell_type": "markdown",
   "metadata": {},
   "source": [
    "**Iterating over Columns**"
   ]
  },
  {
   "cell_type": "code",
   "execution_count": 30,
   "metadata": {},
   "outputs": [
    {
     "name": "stdout",
     "output_type": "stream",
     "text": [
      "     name  degree  score\n",
      "0  Pravin     MBA     90\n",
      "1   Rayan     BCA     40\n",
      "2   Sagar  M.Tech     80\n",
      "3   Inder     MBA     98\n",
      "\n",
      "\n",
      "['name', 'degree', 'score']\n",
      "\n",
      "\n",
      "Sagar\n",
      "M.Tech\n",
      "80\n"
     ]
    }
   ],
   "source": [
    "# Dictionary of lists\n",
    "dict = {'name':['Pravin', 'Rayan', 'Sagar', 'Inder'],\n",
    "        'degree': [\"MBA\", \"BCA\", \"M.Tech\", \"MBA\"],\n",
    "        'score':[90, 40, 80, 98]}\n",
    "# creating a dataframe from a dictionary \n",
    "df = pd.DataFrame(dict_obj)\n",
    "print(df)\n",
    "\n",
    "# creating a list of dataframe columns\n",
    "columns = list(df)\n",
    "print(\"\\n\")\n",
    "print(columns)\n",
    "\n",
    "print(\"\\n\")\n",
    "\n",
    "for i in columns:\n",
    "    # printing the third element of the column\n",
    "    print (df[i][2])"
   ]
  },
  {
   "cell_type": "markdown",
   "metadata": {},
   "source": [
    "**Lowercasing and Uppercasing a Data**"
   ]
  },
  {
   "cell_type": "code",
   "execution_count": 34,
   "metadata": {},
   "outputs": [
    {
     "name": "stdout",
     "output_type": "stream",
     "text": [
      "     Name  Age    Address Qualification\n",
      "0  PRAVIN   27      Delhi           Msc\n",
      "1   RAYAN   24     Kanpur            MA\n",
      "2   SAGAR   22  Allahabad           MCA\n",
      "3   INDER   32       Pune           Phd\n"
     ]
    }
   ],
   "source": [
    "# Define a dictionary containing employee data \n",
    "data = {'Name':['Pravin', 'Rayan', 'Sagar', 'INDER'], \n",
    "        'Age':[27, 24, 22, 32], \n",
    "        'Address':['Delhi', 'Kanpur', 'Allahabad', 'Pune'], \n",
    "        'Qualification':['Msc', 'MA', 'MCA', 'Phd']} \n",
    "\n",
    "# Convert the dictionary into DataFrame  \n",
    "df = pd.DataFrame(data) \n",
    "\n",
    "# Converting and overwriting values in column \n",
    "df[\"Name\"] = df[\"Name\"].str.upper()\n",
    "\n",
    "print(df)"
   ]
  },
  {
   "cell_type": "markdown",
   "metadata": {},
   "source": [
    "**Splitting and Replacing a Data**"
   ]
  },
  {
   "cell_type": "code",
   "execution_count": 48,
   "metadata": {},
   "outputs": [
    {
     "name": "stdout",
     "output_type": "stream",
     "text": [
      "     Name  Age    Address Qualification\n",
      "0  Pravin   27     Nagpur           Msc\n",
      "1   Rayan   24     Kanpur            MA\n",
      "2   Sagar   22  Allahabad           MCA\n",
      "3   Inder   37       Pune           Phd\n",
      "     Name  Age Address Qualification\n",
      "0  Pravin   27       N           Msc\n",
      "1   Rayan   24       K            MA\n",
      "2   Sagar   22     All           MCA\n",
      "3   Inder   37    Pune           Phd\n"
     ]
    }
   ],
   "source": [
    "# Define a dictionary containing employee data \n",
    "data = {'Name':['Pravin', 'Rayan', 'Sagar', 'Inder'], \n",
    "        'Age':[27, 24, 22, 37], \n",
    "        'Address':['Nagpur', 'Kanpur', 'Allahabad', 'Pune'], \n",
    "        'Qualification':['Msc', 'MA', 'MCA', 'Phd']} \n",
    "\n",
    "# Convert the dictionary into DataFrame  \n",
    "df = pd.DataFrame(data) \n",
    "\n",
    "print(df)\n",
    "\n",
    "# dropping null value columns to avoid errors \n",
    "df.dropna(inplace = True) \n",
    "\n",
    "#print(df)\n",
    "\n",
    "# new data frame with split value columns \n",
    "df[\"Address\"]= df[\"Address\"].str.split(\"a\", n=1, expand=True) \n",
    "\n",
    "# df display \n",
    "print(df)"
   ]
  },
  {
   "cell_type": "markdown",
   "metadata": {},
   "source": [
    "**Replace a data**"
   ]
  },
  {
   "cell_type": "code",
   "execution_count": 51,
   "metadata": {},
   "outputs": [
    {
     "name": "stdout",
     "output_type": "stream",
     "text": [
      "              Name            Team  Number Position   Age Height  Weight  \\\n",
      "0    Avery Bradley  Boston Celtics     0.0       PG  25.0    6-2   180.0   \n",
      "1      Jae Crowder  Boston Celtics    99.0       SF  25.0    6-6   235.0   \n",
      "2     John Holland  Boston Celtics    30.0       SG  27.0    6-5   205.0   \n",
      "3      R.J. Hunter  Boston Celtics    28.0       SG  22.0    6-5   185.0   \n",
      "4    Jonas Jerebko  Boston Celtics     8.0       PF  29.0   6-10   231.0   \n",
      "..             ...             ...     ...      ...   ...    ...     ...   \n",
      "453   Shelvin Mack       Utah Jazz     8.0       PG  26.0    6-3   203.0   \n",
      "454      Raul Neto       Utah Jazz    25.0       PG  24.0    6-1   179.0   \n",
      "455   Tibor Pleiss       Utah Jazz    21.0        C  26.0    7-3   256.0   \n",
      "456    Jeff Withey       Utah Jazz    24.0        C  26.0    7-0   231.0   \n",
      "457            NaN             NaN     NaN      NaN   NaN    NaN     NaN   \n",
      "\n",
      "               College     Salary  \n",
      "0                Texas  7730337.0  \n",
      "1            Marquette  6796117.0  \n",
      "2    Boston University        NaN  \n",
      "3        Georgia State  1148640.0  \n",
      "4                  NaN  5000000.0  \n",
      "..                 ...        ...  \n",
      "453             Butler  2433333.0  \n",
      "454                NaN   900000.0  \n",
      "455                NaN  2900000.0  \n",
      "456             Kansas   947276.0  \n",
      "457                NaN        NaN  \n",
      "\n",
      "[458 rows x 9 columns]\n",
      "              Name            Team  Number Position          Age Height  \\\n",
      "0    Avery Bradley  Boston Celtics     0.0       PG  Twenty five    6-2   \n",
      "1      Jae Crowder  Boston Celtics    99.0       SF  Twenty five    6-6   \n",
      "2     John Holland  Boston Celtics    30.0       SG           27    6-5   \n",
      "3      R.J. Hunter  Boston Celtics    28.0       SG           22    6-5   \n",
      "4    Jonas Jerebko  Boston Celtics     8.0       PF           29   6-10   \n",
      "..             ...             ...     ...      ...          ...    ...   \n",
      "453   Shelvin Mack       Utah Jazz     8.0       PG           26    6-3   \n",
      "454      Raul Neto       Utah Jazz    25.0       PG           24    6-1   \n",
      "455   Tibor Pleiss       Utah Jazz    21.0        C           26    7-3   \n",
      "456    Jeff Withey       Utah Jazz    24.0        C           26    7-0   \n",
      "457            NaN             NaN     NaN      NaN          NaN    NaN   \n",
      "\n",
      "     Weight            College     Salary  \n",
      "0     180.0              Texas  7730337.0  \n",
      "1     235.0          Marquette  6796117.0  \n",
      "2     205.0  Boston University        NaN  \n",
      "3     185.0      Georgia State  1148640.0  \n",
      "4     231.0                NaN  5000000.0  \n",
      "..      ...                ...        ...  \n",
      "453   203.0             Butler  2433333.0  \n",
      "454   179.0                NaN   900000.0  \n",
      "455   256.0                NaN  2900000.0  \n",
      "456   231.0             Kansas   947276.0  \n",
      "457     NaN                NaN        NaN  \n",
      "\n",
      "[458 rows x 9 columns]\n",
      "Dropna Filtered Age\n",
      "                    Name                    Team  Number Position  \\\n",
      "0          Avery Bradley          Boston Celtics     0.0       PG   \n",
      "1            Jae Crowder          Boston Celtics    99.0       SF   \n",
      "7           Kelly Olynyk          Boston Celtics    41.0        C   \n",
      "26       Thomas Robinson           Brooklyn Nets    41.0       PF   \n",
      "35      Cleanthony Early         New York Knicks    11.0       SF   \n",
      "44      Derrick Williams         New York Knicks    23.0       PF   \n",
      "47         Isaiah Canaan      Philadelphia 76ers     0.0       PG   \n",
      "48      Robert Covington      Philadelphia 76ers    33.0       SF   \n",
      "59       Hollis Thompson      Philadelphia 76ers    31.0       SG   \n",
      "71         Terrence Ross         Toronto Raptors    31.0       SF   \n",
      "79             Ian Clark   Golden State Warriors    21.0       SG   \n",
      "105          C.J. Wilcox    Los Angeles Clippers    30.0       SG   \n",
      "113           Ryan Kelly      Los Angeles Lakers     4.0       PF   \n",
      "126         John Jenkins            Phoenix Suns    23.0       SG   \n",
      "130         Phil Pressey            Phoenix Suns    25.0       PG   \n",
      "136           Quincy Acy        Sacramento Kings    13.0       SF   \n",
      "143     DeMarcus Cousins        Sacramento Kings    15.0        C   \n",
      "144           Seth Curry        Sacramento Kings    30.0       SG   \n",
      "151     Cameron Bairstow           Chicago Bulls    41.0       PF   \n",
      "166  Matthew Dellavedova     Cleveland Cavaliers     8.0       PG   \n",
      "175         Jordan McRae     Cleveland Cavaliers    12.0       SG   \n",
      "177        Iman Shumpert     Cleveland Cavaliers     4.0       SG   \n",
      "179     Tristan Thompson     Cleveland Cavaliers    13.0        C   \n",
      "184        Lorenzo Brown         Detroit Pistons    17.0       PG   \n",
      "185       Reggie Bullock         Detroit Pistons    25.0       SF   \n",
      "202         Solomon Hill          Indiana Pacers    44.0       SF   \n",
      "209   Shayne Whittington          Indiana Pacers    42.0       PF   \n",
      "214     Jared Cunningham         Milwaukee Bucks     9.0       SG   \n",
      "216          John Henson         Milwaukee Bucks    31.0       PF   \n",
      "266       JaMychal Green       Memphis Grizzlies     0.0       PF   \n",
      "272     Lance Stephenson       Memphis Grizzlies     1.0       SF   \n",
      "284          James Ennis    New Orleans Pelicans     4.0       SF   \n",
      "286          Tim Frazier    New Orleans Pelicans     2.0       PG   \n",
      "289      Jordan Hamilton    New Orleans Pelicans    25.0       SG   \n",
      "290         Jrue Holiday    New Orleans Pelicans    11.0       PG   \n",
      "366       Nikola Vucevic           Orlando Magic     9.0        C   \n",
      "382            John Wall      Washington Wizards     2.0       PG   \n",
      "385          Will Barton          Denver Nuggets     5.0       SF   \n",
      "404        Adreian Payne  Minnesota Timberwolves    33.0       PF   \n",
      "428      Al-Farouq Aminu  Portland Trail Blazers     8.0       SF   \n",
      "436       Damian Lillard  Portland Trail Blazers     0.0       PG   \n",
      "\n",
      "             Age Height  Weight               College      Salary  \n",
      "0    Twenty five    6-2   180.0                 Texas   7730337.0  \n",
      "1    Twenty five    6-6   235.0             Marquette   6796117.0  \n",
      "7    Twenty five    7-0   238.0               Gonzaga   2165160.0  \n",
      "26   Twenty five   6-10   237.0                Kansas    981348.0  \n",
      "35   Twenty five    6-8   210.0         Wichita State    845059.0  \n",
      "44   Twenty five    6-8   240.0               Arizona   4000000.0  \n",
      "47   Twenty five    6-0   201.0          Murray State    947276.0  \n",
      "48   Twenty five    6-9   215.0       Tennessee State   1000000.0  \n",
      "59   Twenty five    6-8   206.0            Georgetown    947276.0  \n",
      "71   Twenty five    6-7   195.0            Washington   3553917.0  \n",
      "79   Twenty five    6-3   175.0               Belmont    947276.0  \n",
      "105  Twenty five    6-5   195.0            Washington   1159680.0  \n",
      "113  Twenty five   6-11   230.0                  Duke   1724250.0  \n",
      "126  Twenty five    6-4   215.0            Vanderbilt    981348.0  \n",
      "130  Twenty five   5-11   175.0              Missouri     55722.0  \n",
      "136  Twenty five    6-7   240.0                Baylor    981348.0  \n",
      "143  Twenty five   6-11   270.0              Kentucky  15851950.0  \n",
      "144  Twenty five    6-2   185.0                  Duke    947276.0  \n",
      "151  Twenty five    6-9   250.0            New Mexico    845059.0  \n",
      "166  Twenty five    6-4   198.0          Saint Mary's   1147276.0  \n",
      "175  Twenty five    6-5   179.0             Tennessee    111196.0  \n",
      "177  Twenty five    6-5   220.0          Georgia Tech   8988765.0  \n",
      "179  Twenty five    6-9   238.0                 Texas  14260870.0  \n",
      "184  Twenty five    6-5   189.0  North Carolina State    111444.0  \n",
      "185  Twenty five    6-7   205.0        North Carolina   1252440.0  \n",
      "202  Twenty five    6-7   225.0               Arizona   1358880.0  \n",
      "209  Twenty five   6-11   250.0      Western Michigan    845059.0  \n",
      "214  Twenty five    6-4   195.0          Oregon State    947276.0  \n",
      "216  Twenty five   6-11   229.0        North Carolina   2943221.0  \n",
      "266  Twenty five    6-9   227.0               Alabama    845059.0  \n",
      "272  Twenty five    6-5   230.0            Cincinnati   9000000.0  \n",
      "284  Twenty five    6-7   210.0      Long Beach State    845059.0  \n",
      "286  Twenty five    6-1   170.0            Penn State    845059.0  \n",
      "289  Twenty five    6-7   220.0                 Texas   1015421.0  \n",
      "290  Twenty five    6-4   205.0                  UCLA  10595507.0  \n",
      "366  Twenty five    7-0   260.0                   USC  11250000.0  \n",
      "382  Twenty five    6-4   195.0              Kentucky  15851950.0  \n",
      "385  Twenty five    6-6   175.0               Memphis   3533333.0  \n",
      "404  Twenty five   6-10   237.0        Michigan State   1938840.0  \n",
      "428  Twenty five    6-9   215.0           Wake Forest   8042895.0  \n",
      "436  Twenty five    6-3   195.0           Weber State   4236287.0  \n"
     ]
    }
   ],
   "source": [
    "# reading csv file from url\n",
    "data = pd.read_csv(\"nba.csv\")\n",
    "\n",
    "print(data)\n",
    "\n",
    "# overwriting column with replaced value of age\n",
    "data[\"Age\"]= data[\"Age\"].replace(25.0, \"Twenty five\")\n",
    "\n",
    "print(data)\n",
    "\n",
    "# creating a filter for age column where age = \"Twenty five\"\n",
    "filtered_data = data[\"Age\"] == \"Twenty five\"\n",
    "\n",
    "# printing only filtered columns\n",
    "df_new = data.where(filtered_data).dropna()\n",
    "print(\"Dropna Filtered Age\")\n",
    "print(df_new)"
   ]
  },
  {
   "cell_type": "markdown",
   "metadata": {},
   "source": [
    "<hr/>\n",
    "\n",
    "### Pandas Concatenating, Merging, and Joining"
   ]
  },
  {
   "cell_type": "markdown",
   "metadata": {},
   "source": [
    "**Concatenating DataFrame**"
   ]
  },
  {
   "cell_type": "code",
   "execution_count": 52,
   "metadata": {},
   "outputs": [
    {
     "name": "stdout",
     "output_type": "stream",
     "text": [
      "     Name  Age    Address Qualification\n",
      "0  Pravin   27     Nagpur           Msc\n",
      "1   Rayan   24     Kanpur            MA\n",
      "2   Sagar   22  Allahabad           MCA\n",
      "3   Inder   32       Pune           Phd \n",
      "\n",
      "          Name  Age     Address Qualification\n",
      "4      Gaurav   17       Delhi         Btech\n",
      "5     Dushyen   14        Kota           B.A\n",
      "6  Sanjeevani   12  Sangareddy          Bcom\n",
      "7  Manoranjan   52     Kannuaj        B.hons\n",
      "\n",
      "\n",
      "\n",
      "         Name  Age     Address Qualification\n",
      "0      Pravin   27      Nagpur           Msc\n",
      "1       Rayan   24      Kanpur            MA\n",
      "2       Sagar   22   Allahabad           MCA\n",
      "3       Inder   32        Pune           Phd\n",
      "4      Gaurav   17       Delhi         Btech\n",
      "5     Dushyen   14        Kota           B.A\n",
      "6  Sanjeevani   12  Sangareddy          Bcom\n",
      "7  Manoranjan   52     Kannuaj        B.hons\n"
     ]
    }
   ],
   "source": [
    "# Define a dictionary containing employee data  \n",
    "data_obj_1 = {'Name':['Pravin', 'Rayan', 'Sagar', 'Inder'],\n",
    "              'Age':[27, 24, 22, 32], \n",
    "              'Address':['Nagpur', 'Kanpur', 'Allahabad', 'Pune'], \n",
    "              'Qualification':['Msc', 'MA', 'MCA', 'Phd']} \n",
    "\n",
    "# Define a dictionary containing employee data \n",
    "data_obj_2 = {'Name':['Gaurav', 'Dushyen', 'Sanjeevani', 'Manoranjan'], \n",
    "              'Age':[17, 14, 12, 52], \n",
    "              'Address':['Delhi', 'Kota', 'Sangareddy', 'Kannuaj'], \n",
    "              'Qualification':['Btech', 'B.A', 'Bcom', 'B.hons']}\n",
    "\n",
    " # Convert the dictionary into DataFrame  \n",
    "df_obj_1 = pd.DataFrame(data_obj_1,index=[0, 1, 2, 3])\n",
    "\n",
    "# Convert the dictionary into DataFrame  \n",
    "df_obj_2 = pd.DataFrame(data_obj_2, index=[4, 5, 6, 7])\n",
    "\n",
    "print(df_obj_1, \"\\n\\n\", df_obj_2)\n",
    "\n",
    "# Using a .concat() method\n",
    "frames = [df_obj_1, df_obj_2]\n",
    "res_df = pd.concat(frames)\n",
    "print(\"\\n\\n\")\n",
    "print(res_df)"
   ]
  },
  {
   "cell_type": "markdown",
   "metadata": {},
   "source": [
    "**Now we set axes join = inner for intersection of dataframe**"
   ]
  },
  {
   "cell_type": "code",
   "execution_count": 66,
   "metadata": {},
   "outputs": [
    {
     "name": "stdout",
     "output_type": "stream",
     "text": [
      "     Name  Age    Address Qualification  Mobile No\n",
      "0  Pravin   27     Nagpur           Msc         97\n",
      "1   Rayan   24     Kanpur            MA         91\n",
      "2   Sagar   22  Allahabad           MCA         58\n",
      "3   Inder   32    Kannuaj           Phd         76 \n",
      "\n",
      "          Name  Age    Address Qualification  Salary\n",
      "2      Gaurav   22  Allahabad           MCA    1000\n",
      "3     Dushyen   32    Kannuaj           Phd    2000\n",
      "6  Sanjeevani   12  Allahabad          Bcom    3000\n",
      "7  Manoranjan   52    Kannuaj        B.hons    4000\n"
     ]
    },
    {
     "data": {
      "text/html": [
       "<div>\n",
       "<style scoped>\n",
       "    .dataframe tbody tr th:only-of-type {\n",
       "        vertical-align: middle;\n",
       "    }\n",
       "\n",
       "    .dataframe tbody tr th {\n",
       "        vertical-align: top;\n",
       "    }\n",
       "\n",
       "    .dataframe thead th {\n",
       "        text-align: right;\n",
       "    }\n",
       "</style>\n",
       "<table border=\"1\" class=\"dataframe\">\n",
       "  <thead>\n",
       "    <tr style=\"text-align: right;\">\n",
       "      <th></th>\n",
       "      <th>Name</th>\n",
       "      <th>Age</th>\n",
       "      <th>Address</th>\n",
       "      <th>Qualification</th>\n",
       "      <th>Mobile No</th>\n",
       "      <th>Name</th>\n",
       "      <th>Age</th>\n",
       "      <th>Address</th>\n",
       "      <th>Qualification</th>\n",
       "      <th>Salary</th>\n",
       "    </tr>\n",
       "  </thead>\n",
       "  <tbody>\n",
       "    <tr>\n",
       "      <th>2</th>\n",
       "      <td>Sagar</td>\n",
       "      <td>22</td>\n",
       "      <td>Allahabad</td>\n",
       "      <td>MCA</td>\n",
       "      <td>58</td>\n",
       "      <td>Gaurav</td>\n",
       "      <td>22</td>\n",
       "      <td>Allahabad</td>\n",
       "      <td>MCA</td>\n",
       "      <td>1000</td>\n",
       "    </tr>\n",
       "    <tr>\n",
       "      <th>3</th>\n",
       "      <td>Inder</td>\n",
       "      <td>32</td>\n",
       "      <td>Kannuaj</td>\n",
       "      <td>Phd</td>\n",
       "      <td>76</td>\n",
       "      <td>Dushyen</td>\n",
       "      <td>32</td>\n",
       "      <td>Kannuaj</td>\n",
       "      <td>Phd</td>\n",
       "      <td>2000</td>\n",
       "    </tr>\n",
       "  </tbody>\n",
       "</table>\n",
       "</div>"
      ],
      "text/plain": [
       "    Name  Age    Address Qualification  Mobile No     Name  Age    Address  \\\n",
       "2  Sagar   22  Allahabad           MCA         58   Gaurav   22  Allahabad   \n",
       "3  Inder   32    Kannuaj           Phd         76  Dushyen   32    Kannuaj   \n",
       "\n",
       "  Qualification  Salary  \n",
       "2           MCA    1000  \n",
       "3           Phd    2000  "
      ]
     },
     "execution_count": 66,
     "metadata": {},
     "output_type": "execute_result"
    }
   ],
   "source": [
    "# Define a dictionary containing employee data \n",
    "emp_obj_1 = {'Name':['Pravin', 'Rayan', 'Sagar', 'Inder'], \n",
    "        'Age':[27, 24, 22, 32], \n",
    "        'Address':['Nagpur', 'Kanpur', 'Allahabad', 'Kannuaj'], \n",
    "        'Qualification':['Msc', 'MA', 'MCA', 'Phd'],\n",
    "        'Mobile No': [97, 91, 58, 76]} \n",
    "\n",
    "# Define a dictionary containing employee data \n",
    "emp_obj_2 = {'Name':['Gaurav', 'Dushyen', 'Sanjeevani', 'Manoranjan'], \n",
    "        'Age':[22, 32, 12, 52], \n",
    "        'Address':['Allahabad', 'Kannuaj', 'Allahabad', 'Kannuaj'], \n",
    "        'Qualification':['MCA', 'Phd', 'Bcom', 'B.hons'],\n",
    "        'Salary':[1000, 2000, 3000, 4000]}  \n",
    " \n",
    "# Convert the dictionary into DataFrame  \n",
    "df_obj_1 = pd.DataFrame(emp_obj_1,index=[0, 1, 2, 3])\n",
    " \n",
    "# Convert the dictionary into DataFrame  \n",
    "df_obj_2 = pd.DataFrame(emp_obj_2, index=[2, 3, 6, 7]) \n",
    "\n",
    "print(df_obj_1, \"\\n\\n\", df_obj_2)\n",
    "\n",
    "# Applying concat with axes join = 'inner'\n",
    "res_df_2 = pd.concat([df_obj_1, df_obj_2], axis=1,join='inner')\n",
    "res_df_2"
   ]
  },
  {
   "cell_type": "markdown",
   "metadata": {},
   "source": [
    "**Now we set axes join = outer for union of dataframe**"
   ]
  },
  {
   "cell_type": "code",
   "execution_count": 72,
   "metadata": {},
   "outputs": [
    {
     "data": {
      "text/html": [
       "<div>\n",
       "<style scoped>\n",
       "    .dataframe tbody tr th:only-of-type {\n",
       "        vertical-align: middle;\n",
       "    }\n",
       "\n",
       "    .dataframe tbody tr th {\n",
       "        vertical-align: top;\n",
       "    }\n",
       "\n",
       "    .dataframe thead th {\n",
       "        text-align: right;\n",
       "    }\n",
       "</style>\n",
       "<table border=\"1\" class=\"dataframe\">\n",
       "  <thead>\n",
       "    <tr style=\"text-align: right;\">\n",
       "      <th></th>\n",
       "      <th>Name</th>\n",
       "      <th>Age</th>\n",
       "      <th>Address</th>\n",
       "      <th>Qualification</th>\n",
       "      <th>Mobile No</th>\n",
       "      <th>Name</th>\n",
       "      <th>Age</th>\n",
       "      <th>Address</th>\n",
       "      <th>Qualification</th>\n",
       "      <th>Salary</th>\n",
       "    </tr>\n",
       "  </thead>\n",
       "  <tbody>\n",
       "    <tr>\n",
       "      <th>0</th>\n",
       "      <td>Pravin</td>\n",
       "      <td>27.0</td>\n",
       "      <td>Nagpur</td>\n",
       "      <td>Msc</td>\n",
       "      <td>97.0</td>\n",
       "      <td>NaN</td>\n",
       "      <td>NaN</td>\n",
       "      <td>NaN</td>\n",
       "      <td>NaN</td>\n",
       "      <td>NaN</td>\n",
       "    </tr>\n",
       "    <tr>\n",
       "      <th>1</th>\n",
       "      <td>Rayan</td>\n",
       "      <td>24.0</td>\n",
       "      <td>Kanpur</td>\n",
       "      <td>MA</td>\n",
       "      <td>91.0</td>\n",
       "      <td>NaN</td>\n",
       "      <td>NaN</td>\n",
       "      <td>NaN</td>\n",
       "      <td>NaN</td>\n",
       "      <td>NaN</td>\n",
       "    </tr>\n",
       "    <tr>\n",
       "      <th>2</th>\n",
       "      <td>Sagar</td>\n",
       "      <td>22.0</td>\n",
       "      <td>Allahabad</td>\n",
       "      <td>MCA</td>\n",
       "      <td>58.0</td>\n",
       "      <td>Gaurav</td>\n",
       "      <td>22.0</td>\n",
       "      <td>Allahabad</td>\n",
       "      <td>MCA</td>\n",
       "      <td>1000.0</td>\n",
       "    </tr>\n",
       "    <tr>\n",
       "      <th>3</th>\n",
       "      <td>Inder</td>\n",
       "      <td>32.0</td>\n",
       "      <td>Kannuaj</td>\n",
       "      <td>Phd</td>\n",
       "      <td>76.0</td>\n",
       "      <td>Dushyen</td>\n",
       "      <td>32.0</td>\n",
       "      <td>Kannuaj</td>\n",
       "      <td>Phd</td>\n",
       "      <td>2000.0</td>\n",
       "    </tr>\n",
       "    <tr>\n",
       "      <th>6</th>\n",
       "      <td>NaN</td>\n",
       "      <td>NaN</td>\n",
       "      <td>NaN</td>\n",
       "      <td>NaN</td>\n",
       "      <td>NaN</td>\n",
       "      <td>Sanjeevani</td>\n",
       "      <td>12.0</td>\n",
       "      <td>Allahabad</td>\n",
       "      <td>Bcom</td>\n",
       "      <td>3000.0</td>\n",
       "    </tr>\n",
       "    <tr>\n",
       "      <th>7</th>\n",
       "      <td>NaN</td>\n",
       "      <td>NaN</td>\n",
       "      <td>NaN</td>\n",
       "      <td>NaN</td>\n",
       "      <td>NaN</td>\n",
       "      <td>Manoranjan</td>\n",
       "      <td>52.0</td>\n",
       "      <td>Kannuaj</td>\n",
       "      <td>B.hons</td>\n",
       "      <td>4000.0</td>\n",
       "    </tr>\n",
       "  </tbody>\n",
       "</table>\n",
       "</div>"
      ],
      "text/plain": [
       "     Name   Age    Address Qualification  Mobile No        Name   Age  \\\n",
       "0  Pravin  27.0     Nagpur           Msc       97.0         NaN   NaN   \n",
       "1   Rayan  24.0     Kanpur            MA       91.0         NaN   NaN   \n",
       "2   Sagar  22.0  Allahabad           MCA       58.0      Gaurav  22.0   \n",
       "3   Inder  32.0    Kannuaj           Phd       76.0     Dushyen  32.0   \n",
       "6     NaN   NaN        NaN           NaN        NaN  Sanjeevani  12.0   \n",
       "7     NaN   NaN        NaN           NaN        NaN  Manoranjan  52.0   \n",
       "\n",
       "     Address Qualification  Salary  \n",
       "0        NaN           NaN     NaN  \n",
       "1        NaN           NaN     NaN  \n",
       "2  Allahabad           MCA  1000.0  \n",
       "3    Kannuaj           Phd  2000.0  \n",
       "6  Allahabad          Bcom  3000.0  \n",
       "7    Kannuaj        B.hons  4000.0  "
      ]
     },
     "execution_count": 72,
     "metadata": {},
     "output_type": "execute_result"
    }
   ],
   "source": [
    "# Using a .concat for union of dataframe\n",
    "res_df_2 = pd.concat([df_obj_1, df_obj_2], axis=1, join='outer')\n",
    "#res_df_2 = pd.concat([df_obj_1, df_obj_2], axis=0, sort=False)\n",
    "res_df_2"
   ]
  },
  {
   "cell_type": "markdown",
   "metadata": {},
   "source": [
    "**Concatenating DataFrame using .append()**"
   ]
  },
  {
   "cell_type": "code",
   "execution_count": null,
   "metadata": {},
   "outputs": [],
   "source": [
    "# Define a dictionary containing employee data \n",
    "emp_obj_1 = {'Name':['Pravin', 'Rayan', 'Sagar', 'Inder'], \n",
    "        'Age':[27, 24, 22, 32], \n",
    "        'Address':['Nagpur', 'Kanpur', 'Allahabad', 'Kannuaj'], \n",
    "        'Qualification':['Msc', 'MA', 'MCA', 'Phd'],\n",
    "        'Mobile No': [97, 91, 58, 76]} \n",
    "\n",
    "# Define a dictionary containing employee data \n",
    "emp_obj_2 = {'Name':['Gaurav', 'Dushyen', 'Sanjeevani', 'Manoranjan'], \n",
    "        'Age':[22, 32, 12, 52], \n",
    "        'Address':['Allahabad', 'Kannuaj', 'Allahabad', 'Kannuaj'], \n",
    "        'Qualification':['MCA', 'Phd', 'Bcom', 'B.hons'],\n",
    "        'Salary':[1000, 2000, 3000, 4000]}  \n",
    "\n",
    "# Convert the dictionary into DataFrame\n",
    "df_obj_1 = pd.DataFrame(emp_obj_1,index=[0, 1, 2, 3])\n",
    "\n",
    "# Convert the dictionary into DataFrame  \n",
    "df_obj_2 = pd.DataFrame(emp_obj_2, index=[4, 5, 6, 7])\n",
    "\n",
    "print(df_obj_1, \"\\n\\n\", df_obj_2) \n",
    "\n",
    "# Using append function\n",
    "\n",
    "res_df = df_obj_1.append(df_obj_2)\n",
    "print(\"\\n\\n\")\n",
    "res_df"
   ]
  },
  {
   "cell_type": "markdown",
   "metadata": {},
   "source": [
    "**Concatenating DataFrame with group keys**"
   ]
  },
  {
   "cell_type": "code",
   "execution_count": null,
   "metadata": {},
   "outputs": [],
   "source": [
    "df_obj_1 = pd.DataFrame(emp_obj_1,index=[0, 1, 2, 3])\n",
    "\n",
    "# Convert the dictionary into DataFrame  \n",
    "df_obj_2 = pd.DataFrame(emp_obj_2, index=[4, 5, 6, 7])\n",
    "\n",
    "print(df_obj_1, \"\\n\\n\", df_obj_2)  \n",
    "\n",
    "# using keys \n",
    "frames = [df_obj_1, df_obj_2]\n",
    "\n",
    "res_df = pd.concat(frames, keys=['x', 'y'])\n",
    "print(\"\\n\")\n",
    "res_df"
   ]
  },
  {
   "cell_type": "markdown",
   "metadata": {},
   "source": [
    "<hr/>\n",
    "\n",
    "**Merging a dataframe with one unique key combination**"
   ]
  },
  {
   "cell_type": "code",
   "execution_count": null,
   "metadata": {},
   "outputs": [],
   "source": [
    "# Define a dictionary containing employee data \n",
    "emp_obj_1 = {'key': ['Pravin', 'Rayan', 'Sagar', 'Inder'],\n",
    "         'Name':['Jai', 'Princi', 'Gaurav', 'Anuj'], \n",
    "         'Age':[27, 24, 22, 32],} \n",
    "   \n",
    "# Define a dictionary containing employee data \n",
    "emp_obj_2 = {'key': ['K0', 'K1', 'K2', 'K3'],\n",
    "         'Address':['Allahabad', 'Kannuaj', 'Allahabad', 'Kannuaj'], \n",
    "         'Qualification':['Btech', 'B.A', 'Bcom', 'B.hons']} \n",
    " \n",
    "# Convert the dictionary into DataFrame  \n",
    "df_obj_1 = pd.DataFrame(emp_obj_1)\n",
    " \n",
    "# Convert the dictionary into DataFrame  \n",
    "df_obj_2 = pd.DataFrame(emp_obj_1) \n",
    "  \n",
    " \n",
    "print(df_obj_1, \"\\n\\n\", df_obj_2) \n",
    "\n",
    "# using .merge() function\n",
    "res_df = pd.merge(df_obj_1, df_obj_2, on='key')\n",
    " \n",
    "res_df"
   ]
  },
  {
   "cell_type": "markdown",
   "metadata": {},
   "source": [
    "**Merging dataframe using multiple join keys**"
   ]
  },
  {
   "cell_type": "code",
   "execution_count": null,
   "metadata": {},
   "outputs": [],
   "source": [
    "# Define a dictionary containing employee data \n",
    "emp_obj_1 = {'key': ['K0', 'K1', 'K2', 'K3'],\n",
    "         'key1': ['K0', 'K1', 'K0', 'K1'],\n",
    "         'Name':['Pravin', 'Rayan', 'Sagar', 'Inder'], \n",
    "        'Age':[27, 24, 22, 32],} \n",
    "\n",
    "# Define a dictionary containing employee data \n",
    "emp_obj_2 = {'key': ['K0', 'K1', 'K2', 'K3'],\n",
    "         'key1': ['K0', 'K0', 'K0', 'K0'],\n",
    "         'Address':['Allahabad', 'Kannuaj', 'Allahabad', 'Kannuaj'], \n",
    "        'Qualification':['Btech', 'B.A', 'Bcom', 'B.hons']} \n",
    "\n",
    "# Convert the dictionary into DataFrame  \n",
    "df_obj_1 = pd.DataFrame(emp_obj_1)\n",
    "\n",
    "# Convert the dictionary into DataFrame  \n",
    "df_obj_2 = pd.DataFrame(emp_obj_2) \n",
    "\n",
    "\n",
    "print(df_obj_1, \"\\n\\n\", df_obj_2) \n",
    "\n",
    "# merging dataframe using multiple keys\n",
    "res_df = pd.merge(df_obj_1, df_obj_1, on=['key', 'key1'])\n",
    "\n",
    "res_df"
   ]
  },
  {
   "cell_type": "markdown",
   "metadata": {},
   "source": [
    "**Merging dataframe using how in an argument**"
   ]
  },
  {
   "cell_type": "code",
   "execution_count": null,
   "metadata": {},
   "outputs": [],
   "source": [
    "# Now we set how = 'left' in order to use keys from left frame only.\n",
    "\n",
    "# using keys from left frame\n",
    "res_df = pd.merge(df_obj_1, df_obj_1,  how='left', on=['key', 'key1'])\n",
    "print(\"\\n\")\n",
    "print(res_df)\n",
    "\n",
    "# Now we set how = 'right' in order to use keys from right frame only.\n",
    "\n",
    "# using keys from left frame\n",
    "res_df = pd.merge(df_obj_1, df_obj_1,  how='right', on=['key', 'key1'])\n",
    "print(\"\\n\")\n",
    "print(res_df)\n",
    "\n",
    "# Now we set how = 'outer' in order to get union of keys from dataframes.\n",
    "\n",
    "# using keys from left frame\n",
    "res_df = pd.merge(df_obj_1, df_obj_1,  how='outer', on=['key', 'key1'])\n",
    "print(\"\\n\")\n",
    "print(res_df)\n",
    "\n",
    "# Now we set how = 'inner' in order to get intersection of keys from dataframes.\n",
    "\n",
    "# using keys from left frame\n",
    "res_df = pd.merge(df_obj_1, df_obj_1,  how='inner', on=['key', 'key1'])\n",
    "print(\"\\n\")\n",
    "print(res_df)\n"
   ]
  },
  {
   "cell_type": "markdown",
   "metadata": {},
   "source": [
    "<hr />\n",
    "\n",
    "**Joining DataFrame**"
   ]
  },
  {
   "cell_type": "code",
   "execution_count": null,
   "metadata": {},
   "outputs": [],
   "source": [
    "# Define a dictionary containing employee data \n",
    "emp_obj_1 = {'Name':['Pravin', 'Rayan', 'Sagar', 'Inder'], \n",
    "             'Age':[27, 24, 22, 32]} \n",
    "\n",
    "# Define a dictionary containing employee data \n",
    "emp_obj_2 = {'Address':['Allahabad', 'Kannuaj', 'Allahabad', 'Kannuaj'], \n",
    "             'Qualification':['MCA', 'Phd', 'Bcom', 'B.hons']} \n",
    "\n",
    "# Convert the dictionary into DataFrame  \n",
    "df_obj_1 = pd.DataFrame(emp_obj_1,index=['K0', 'K1', 'K2', 'K3'])\n",
    "\n",
    "# Convert the dictionary into DataFrame  \n",
    "df_obj_2 = pd.DataFrame(emp_obj_2, index=['K0', 'K2', 'K3', 'K4'])\n",
    "\n",
    "\n",
    "print(df_obj_1, \"\\n\\n\", df_obj_2)  \n",
    "\n",
    "# joining dataframe\n",
    "res_df_1 = df_obj_1.join(df_obj_2)\n",
    "\n",
    "res_df_1"
   ]
  },
  {
   "cell_type": "code",
   "execution_count": null,
   "metadata": {},
   "outputs": [],
   "source": [
    "# Now we use how = 'outer' in order to get union\n",
    "\n",
    "# Getting union\n",
    "res_df_1 = df_obj_1.join(df_obj_2, how='outer')\n",
    "res_df_1"
   ]
  },
  {
   "cell_type": "code",
   "execution_count": null,
   "metadata": {},
   "outputs": [],
   "source": [
    "# Now we use how = 'inner' in order to get union\n",
    "\n",
    "# Getting union\n",
    "res_df_1 = df_obj_1.join(df_obj_2, how='inner')\n",
    "res_df_1"
   ]
  },
  {
   "cell_type": "code",
   "execution_count": null,
   "metadata": {},
   "outputs": [],
   "source": [
    "# Joining dataframe using **on** in an argument\n",
    "\n",
    "# Define a dictionary containing employee data \n",
    "emp_obj_1 = {'Name':['Pravin', 'Rayan', 'Sagar', 'Inder'], \n",
    "        'Age':[27, 24, 22, 32],\n",
    "        'Key':['K0', 'K1', 'K2', 'K3']} \n",
    "    \n",
    "# Define a dictionary containing employee data \n",
    "emp_obj_2 = {'Address':['Allahabad', 'Kannuaj', 'Allahabad', 'Kannuaj'], \n",
    "        'Qualification':['MCA', 'Phd', 'Bcom', 'B.hons']} \n",
    "  \n",
    "# Convert the dictionary into DataFrame  \n",
    "df_obj_1 = pd.DataFrame(emp_obj_1)\n",
    "  \n",
    "# Convert the dictionary into DataFrame  \n",
    "df_obj_2 = pd.DataFrame(emp_obj_2, index=['K0', 'K2', 'K3', 'K4'])\n",
    " \n",
    "print(df_obj_1, \"\\n\\n\", df_obj_2)\n",
    "\n",
    "# using on argument in join\n",
    "res_df = df_obj_1.join(df_obj_2, on='Key')\n",
    " \n",
    "res_df"
   ]
  }
 ],
 "metadata": {
  "kernelspec": {
   "display_name": "Python 3",
   "language": "python",
   "name": "python3"
  },
  "language_info": {
   "codemirror_mode": {
    "name": "ipython",
    "version": 3
   },
   "file_extension": ".py",
   "mimetype": "text/x-python",
   "name": "python",
   "nbconvert_exporter": "python",
   "pygments_lexer": "ipython3",
   "version": "3.6.8"
  }
 },
 "nbformat": 4,
 "nbformat_minor": 4
}
