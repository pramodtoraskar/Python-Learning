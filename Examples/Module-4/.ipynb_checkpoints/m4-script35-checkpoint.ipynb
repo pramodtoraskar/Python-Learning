{
 "cells": [
  {
   "cell_type": "code",
   "execution_count": 1,
   "metadata": {},
   "outputs": [],
   "source": [
    "import numpy as np"
   ]
  },
  {
   "cell_type": "code",
   "execution_count": 3,
   "metadata": {},
   "outputs": [],
   "source": [
    "arr = np.array([[1,2,3,], [4,5,6]])"
   ]
  },
  {
   "cell_type": "code",
   "execution_count": 4,
   "metadata": {},
   "outputs": [
    {
     "data": {
      "text/plain": [
       "array([[1, 2, 3],\n",
       "       [4, 5, 6]])"
      ]
     },
     "execution_count": 4,
     "metadata": {},
     "output_type": "execute_result"
    }
   ],
   "source": [
    "arr"
   ]
  },
  {
   "cell_type": "code",
   "execution_count": 5,
   "metadata": {},
   "outputs": [
    {
     "name": "stdout",
     "output_type": "stream",
     "text": [
      "Array is of type:  <class 'numpy.ndarray'>\n",
      "No. of dimensions:  2\n",
      "Shape of array:  (2, 3)\n",
      "Size of array:  6\n",
      "Array stores elements of type:  int64\n"
     ]
    }
   ],
   "source": [
    "# Printing type of arr object \n",
    "print(\"Array is of type: \", type(arr)) \n",
    "\n",
    "# Printing array dimensions (axes) \n",
    "print(\"No. of dimensions: \", arr.ndim) \n",
    "\n",
    "# Printing shape of array \n",
    "print(\"Shape of array: \", arr.shape) \n",
    "\n",
    "# Printing size (total number of elements) of array \n",
    "print(\"Size of array: \", arr.size) \n",
    "\n",
    "# Printing type of elements in array \n",
    "print(\"Array stores elements of type: \", arr.dtype) "
   ]
  },
  {
   "cell_type": "code",
   "execution_count": 7,
   "metadata": {},
   "outputs": [
    {
     "name": "stdout",
     "output_type": "stream",
     "text": [
      "Array created using passed list:\n",
      " [[1. 2. 4.]\n",
      " [5. 8. 7.]]\n",
      "Array stores elements of type:  float64\n"
     ]
    }
   ],
   "source": [
    "# Creating array from list with type float \n",
    "np_aar_1 = np.array([[1, 2, 4], [5, 8, 7]], dtype = 'float') \n",
    "print (\"Array created using passed list:\\n\", np_aar_1)\n",
    "print(\"Array stores elements of type: \", np_aar_1.dtype) "
   ]
  },
  {
   "cell_type": "code",
   "execution_count": 14,
   "metadata": {},
   "outputs": [
    {
     "name": "stdout",
     "output_type": "stream",
     "text": [
      "\n",
      "Array created using passed tuple:\n",
      " [[1. 3. 2.]\n",
      " [4. 5. 6.]]\n"
     ]
    }
   ],
   "source": [
    "# Creating array from tuple \n",
    "np_aar_2 = np.array(((1 , 3, 2),(4, 5, 6)), dtype = 'float')\n",
    "print (\"\\nArray created using passed tuple:\\n\", np_aar_2) "
   ]
  },
  {
   "cell_type": "code",
   "execution_count": 27,
   "metadata": {},
   "outputs": [
    {
     "name": "stdout",
     "output_type": "stream",
     "text": [
      "\n",
      "An array initialized with all zeros:\n",
      " [[0. 0. 0. 0.]\n",
      " [0. 0. 0. 0.]\n",
      " [0. 0. 0. 0.]]\n"
     ]
    }
   ],
   "source": [
    "# Creating a 3X4 array with all zeros \n",
    "np_aar_3 = np.zeros((3, 4)) \n",
    "print (\"\\nAn array initialized with all zeros:\\n\", np_aar_3) "
   ]
  },
  {
   "cell_type": "code",
   "execution_count": 25,
   "metadata": {},
   "outputs": [
    {
     "name": "stdout",
     "output_type": "stream",
     "text": [
      "\n",
      "An array initialized with all 6s. Array type is complex:\n",
      " [[6.+0.j 6.+0.j 6.+0.j]\n",
      " [6.+0.j 6.+0.j 6.+0.j]\n",
      " [6.+0.j 6.+0.j 6.+0.j]]\n"
     ]
    }
   ],
   "source": [
    "# Create a constant value array of complex type \n",
    "np_aar_4 = np.full((3, 3), 6, dtype = 'complex') \n",
    "print (\"\\nAn array initialized with all 6s. Array type is complex:\\n\", np_aar_4) "
   ]
  },
  {
   "cell_type": "code",
   "execution_count": 31,
   "metadata": {},
   "outputs": [
    {
     "name": "stdout",
     "output_type": "stream",
     "text": [
      "\n",
      "A random array:\n",
      " [[0.22077542 0.95229182 0.98780713 0.45956241 0.7507055  0.54909052]\n",
      " [0.84058814 0.84717931 0.84253506 0.1208327  0.15312848 0.1832071 ]\n",
      " [0.70240186 0.79829215 0.33189462 0.10758959 0.74902137 0.14451685]\n",
      " [0.91987883 0.9450439  0.65134186 0.05352359 0.82263352 0.85765648]]\n"
     ]
    }
   ],
   "source": [
    "# Create an array with random values \n",
    "np_aar_5 = np.random.random((4, 6)) \n",
    "print (\"\\nA random array:\\n\", np_aar_5) "
   ]
  },
  {
   "cell_type": "code",
   "execution_count": 29,
   "metadata": {},
   "outputs": [
    {
     "name": "stdout",
     "output_type": "stream",
     "text": [
      "\n",
      "An array initialized with all 1s. Array type is iint:\n",
      " [[1 1 1 1]\n",
      " [1 1 1 1]\n",
      " [1 1 1 1]]\n"
     ]
    }
   ],
   "source": [
    "# Create a constant value array of int type \n",
    "np_aar_5 = np.full((3, 4), 1) \n",
    "print (\"\\nAn array initialized with all 1s. Array type is iint:\\n\", np_aar_5) "
   ]
  },
  {
   "cell_type": "code",
   "execution_count": 32,
   "metadata": {},
   "outputs": [
    {
     "name": "stdout",
     "output_type": "stream",
     "text": [
      "\n",
      "A sequential array with steps of 5:\n",
      " [ 0  5 10 15 20 25]\n"
     ]
    }
   ],
   "source": [
    "# Create a sequence of integers from 0 to 30 with steps of 5 \n",
    "np_aar_6 = np.arange(0, 30, 5) \n",
    "print (\"\\nA sequential array with steps of 5:\\n\", np_aar_6) "
   ]
  },
  {
   "cell_type": "code",
   "execution_count": 33,
   "metadata": {},
   "outputs": [
    {
     "name": "stdout",
     "output_type": "stream",
     "text": [
      "\n",
      "A sequential array with 10 values between 0 and 5:\n",
      " [0.         0.55555556 1.11111111 1.66666667 2.22222222 2.77777778\n",
      " 3.33333333 3.88888889 4.44444444 5.        ]\n"
     ]
    }
   ],
   "source": [
    "# Create a sequence of 10 values in range 0 to 5 \n",
    "np_aar_7 = np.linspace(0, 5, 10) \n",
    "print (\"\\nA sequential array with 10 values between 0 and 5:\\n\", np_aar_7) "
   ]
  },
  {
   "cell_type": "code",
   "execution_count": 36,
   "metadata": {},
   "outputs": [
    {
     "name": "stdout",
     "output_type": "stream",
     "text": [
      "\n",
      "Original array:\n",
      " [[1 2 3 4]\n",
      " [5 2 4 2]\n",
      " [1 2 0 1]]\n",
      "Reshaped array:\n",
      " [[[1 2 3]\n",
      "  [4 5 2]]\n",
      "\n",
      " [[4 2 1]\n",
      "  [2 0 1]]]\n",
      "\n",
      "Original array:\n",
      " [[1 2 3]\n",
      " [4 5 6]]\n",
      "Fattened array:\n",
      " [1 2 3 4 5 6]\n"
     ]
    }
   ],
   "source": [
    "# Reshaping 3X4 array to 2X2X3 array \n",
    "np_aar_8 = np.array([[1, 2, 3, 4],\n",
    "                     [5, 2, 4, 2], \n",
    "                     [1, 2, 0, 1]]) \n",
    "\n",
    "new_np_arr = np_aar_8.reshape(2, 2, 3) \n",
    "\n",
    "print (\"\\nOriginal array:\\n\", np_aar_8) \n",
    "print (\"Reshaped array:\\n\", new_np_arr) \n",
    "\n",
    "\n",
    "# Flatten array \n",
    "np_arr = np.array([[1, 2, 3], [4, 5, 6]]) \n",
    "\n",
    "fl_np_arr = np_arr.flatten() \n",
    "\n",
    "print (\"\\nOriginal array:\\n\", np_arr) \n",
    "\n",
    "print (\"Fattened array:\\n\", fl_np_arr) "
   ]
  },
  {
   "cell_type": "code",
   "execution_count": 37,
   "metadata": {},
   "outputs": [],
   "source": [
    "# Slicing array\n",
    "arr = np.array([[-1, 2, 0, 4],\n",
    "               [4, -0.5, 6, 0], \n",
    "               [2.6, 0, 7, 8], \n",
    "               [3, -7, 4, 2.0]])     "
   ]
  },
  {
   "cell_type": "code",
   "execution_count": 44,
   "metadata": {},
   "outputs": [
    {
     "name": "stdout",
     "output_type": "stream",
     "text": [
      "Array with first 2 rows and alternate columns(0 and 2):\n",
      " [[-1.  0.]\n",
      " [ 4.  6.]]\n",
      "\n",
      "Elements at indices (0, 3), (1, 2), (2, 1),(3, 0):\n",
      " [4. 6. 0. 3.]\n",
      "\n",
      "Elements greater than 0:\n",
      " [2.  4.  4.  6.  2.6 7.  8.  3.  4.  2. ]\n"
     ]
    }
   ],
   "source": [
    "temp = arr[:2, ::2] \n",
    "print (\"Array with first 2 rows and alternate columns(0 and 2):\\n\", temp) \n",
    "\n",
    "# Integer array indexing example \n",
    "temp = arr[[0, 1, 2, 3], [3, 2, 1, 0]] \n",
    "print (\"\\nElements at indices (0, 3), (1, 2), (2, 1),(3, 0):\\n\", temp)\n",
    "\n",
    "# boolean array indexing example \n",
    "cond = arr > 0 # cond is a boolean array \n",
    "temp = arr[cond] \n",
    "print (\"\\nElements greater than 0:\\n\", temp) \n"
   ]
  },
  {
   "cell_type": "code",
   "execution_count": 47,
   "metadata": {},
   "outputs": [
    {
     "name": "stdout",
     "output_type": "stream",
     "text": [
      "\n",
      "Original array:\n",
      " [1 2 5 3]\n",
      "Adding 1 to every element: [2 3 6 4]\n",
      "Subtracting 3 from each element: [-2 -1  2  0]\n",
      "Multiplying each element by 10: [10 20 50 30]\n",
      "Squaring each element: [ 1  4 25  9]\n",
      "Doubled each element of original array: [ 2  4 10  6]\n",
      "\n",
      "Original array:\n",
      " [[1 2 3]\n",
      " [3 4 5]\n",
      " [9 6 0]]\n",
      "Transpose of array:\n",
      " [[1 3 9]\n",
      " [2 4 6]\n",
      " [3 5 0]]\n"
     ]
    }
   ],
   "source": [
    "np_arr = np.array([1, 2, 5, 3]) \n",
    "\n",
    "print(\"\\nOriginal array:\\n\", np_arr) \n",
    "\n",
    "# Add 1 to every element \n",
    "print(\"Adding 1 to every element:\", np_arr + 1) \n",
    "\n",
    "# Subtract 3 from each element \n",
    "print(\"Subtracting 3 from each element:\", np_arr - 3) \n",
    "\n",
    "# Multiply each element by 10 \n",
    "print(\"Multiplying each element by 10:\", np_arr * 10) \n",
    "\n",
    "# Square each element \n",
    "print(\"Squaring each element:\", np_arr ** 2) \n",
    "\n",
    "# modify existing array \n",
    "np_arr *= 2\n",
    "print(\"Doubled each element of original array:\", np_arr) \n",
    "\n",
    "# Transpose of array \n",
    "new_np_arr = np.array([[1, 2, 3], [3, 4, 5], [9, 6, 0]]) \n",
    "\n",
    "print(\"\\nOriginal array:\\n\", new_np_arr) \n",
    "print(\"Transpose of array:\\n\", new_np_arr.T) "
   ]
  },
  {
   "cell_type": "code",
   "execution_count": 48,
   "metadata": {},
   "outputs": [
    {
     "name": "stdout",
     "output_type": "stream",
     "text": [
      "Largest element is: 9\n",
      "Row-wise maximum elements: [6 7 9]\n",
      "Column-wise minimum elements: [1 1 2]\n",
      "Sum of all array elements: 38\n",
      "Cumulative sum along each row:\n",
      " [[ 1  6 12]\n",
      " [ 4 11 13]\n",
      " [ 3  4 13]]\n"
     ]
    }
   ],
   "source": [
    "np_arr = np.array([[1, 5, 6], \n",
    "                   [4, 7, 2], \n",
    "                   [3, 1, 9]]) \n",
    "\n",
    "# Maximum element of array \n",
    "print(\"Largest element is:\", np_arr.max()) \n",
    "\n",
    "print(\"Row-wise maximum elements:\", np_arr.max(axis = 1)) \n",
    "\n",
    "# minimum element of array \n",
    "print (\"Column-wise minimum elements:\", np_arr.min(axis = 0)) \n",
    "\n",
    "# sum of array elements \n",
    "print (\"Sum of all array elements:\", np_arr.sum()) \n",
    "\n",
    "# Cumulative sum along each row \n",
    "print (\"Cumulative sum along each row:\\n\", np_arr.cumsum(axis = 1))"
   ]
  },
  {
   "cell_type": "code",
   "execution_count": 49,
   "metadata": {},
   "outputs": [
    {
     "name": "stdout",
     "output_type": "stream",
     "text": [
      "[[1 2]\n",
      " [3 4]] \n",
      "\n",
      " [[4 3]\n",
      " [2 1]]\n",
      "Array sum:\n",
      " [[5 5]\n",
      " [5 5]]\n",
      "Array multiplication:\n",
      " [[4 6]\n",
      " [6 4]]\n",
      "Matrix multiplication:\n",
      " [[ 8  5]\n",
      " [20 13]]\n"
     ]
    }
   ],
   "source": [
    "np_arr_1 = np.array([[1, 2], \n",
    "                     [3, 4]]) \n",
    "\n",
    "np_arr_2 = np.array([[4, 3], \n",
    "                     [2, 1]]) \n",
    "\n",
    "print(np_arr_1, '\\n\\n', np_arr_2)\n",
    "\n",
    "# Add arrays \n",
    "print (\"Array sum:\\n\", np_arr_1 + np_arr_2) \n",
    "\n",
    "# Multiply arrays (Element-wise multiplication) \n",
    "print (\"Array multiplication:\\n\", np_arr_1 * np_arr_2) \n",
    "\n",
    "# Matrix multiplication \n",
    "print (\"Matrix multiplication:\\n\", np_arr_1.dot(np_arr_2)) "
   ]
  },
  {
   "cell_type": "code",
   "execution_count": 50,
   "metadata": {},
   "outputs": [
    {
     "name": "stdout",
     "output_type": "stream",
     "text": [
      "Array elements in sorted order:\n",
      " [-1  0  1  2  3  4  4  5  6]\n"
     ]
    }
   ],
   "source": [
    "np_arr = np.array([[1, 4, 2], \n",
    "                   [3, 4, 6], \n",
    "                   [0, -1, 5]]) \n",
    "\n",
    "# Sorted array \n",
    "print(\"Array elements in sorted order:\\n\", np.sort(np_arr, axis = None)) "
   ]
  },
  {
   "cell_type": "code",
   "execution_count": 54,
   "metadata": {},
   "outputs": [
    {
     "name": "stdout",
     "output_type": "stream",
     "text": [
      "[[ 1  4  2]\n",
      " [ 3  4  6]\n",
      " [ 0 -1  5]]\n",
      "Row-wise sorted array:\n",
      " [[ 1  2  4]\n",
      " [ 3  4  6]\n",
      " [-1  0  5]]\n"
     ]
    }
   ],
   "source": [
    "np_arr = np.array([[1, 4, 2], \n",
    "                   [3, 4, 6], \n",
    "                   [0, -1, 5]]) \n",
    "\n",
    "print(np_arr)\n",
    "# Sort array row-wise \n",
    "print (\"Row-wise sorted array:\\n\", np.sort(np_arr, axis = 1)) "
   ]
  },
  {
   "cell_type": "code",
   "execution_count": 55,
   "metadata": {},
   "outputs": [
    {
     "name": "stdout",
     "output_type": "stream",
     "text": [
      "Column wise sort by applying merge-sort:\n",
      " [[ 0 -1  2]\n",
      " [ 1  4  5]\n",
      " [ 3  4  6]]\n",
      "\n",
      "Array sorted by names:\n",
      " [(b'Aakash', 2009, 9. ) (b'Ajay', 2008, 8.7) (b'Hrithik', 2009, 8.5)\n",
      " (b'Pankaj', 2008, 7.9)]\n",
      "Array sorted by grauation year and then cgpa:\n",
      " [(b'Pankaj', 2008, 7.9) (b'Ajay', 2008, 8.7) (b'Hrithik', 2009, 8.5)\n",
      " (b'Aakash', 2009, 9. )]\n"
     ]
    }
   ],
   "source": [
    "# Specify sort algorithm \n",
    "print (\"Column wise sort by applying merge-sort:\\n\", np.sort(np_arr, axis = 0, kind = 'mergesort')) \n",
    "\n",
    "# Example to show sorting of structured array set alias names for dtypes \n",
    "dtypes = [('name', 'S10'), ('grad_year', int), ('cgpa', float)] \n",
    "\n",
    "# Values to be put in array \n",
    "values = [('Hrithik', 2009, 8.5), ('Ajay', 2008, 8.7), ('Pankaj', 2008, 7.9), ('Aakash', 2009, 9.0)] \n",
    "            \n",
    "# Creating array \n",
    "new_np_arr = np.array(values, dtype = dtypes) \n",
    "print (\"\\nArray sorted by names:\\n\", np.sort(new_np_arr, order = 'name')) \n",
    "            \n",
    "print (\"Array sorted by grauation year and then cgpa:\\n\", np.sort(new_np_arr, order = ['grad_year', 'cgpa'])) "
   ]
  },
  {
   "cell_type": "code",
   "execution_count": 56,
   "metadata": {},
   "outputs": [],
   "source": [
    "from numpy import asarray\n",
    "from numpy import savetxt\n",
    "# Define data\n",
    "np_data = asarray([[0, 1, 2, 3, 4, 5, 6, 7, 8, 9]])\n",
    "# Save to csv file\n",
    "savetxt('np_data_new.csv', np_data, delimiter=',')"
   ]
  },
  {
   "cell_type": "code",
   "execution_count": null,
   "metadata": {},
   "outputs": [],
   "source": []
  },
  {
   "cell_type": "code",
   "execution_count": null,
   "metadata": {},
   "outputs": [],
   "source": []
  }
 ],
 "metadata": {
  "kernelspec": {
   "display_name": "Python 3",
   "language": "python",
   "name": "python3"
  },
  "language_info": {
   "codemirror_mode": {
    "name": "ipython",
    "version": 3
   },
   "file_extension": ".py",
   "mimetype": "text/x-python",
   "name": "python",
   "nbconvert_exporter": "python",
   "pygments_lexer": "ipython3",
   "version": "3.6.8"
  }
 },
 "nbformat": 4,
 "nbformat_minor": 4
}
